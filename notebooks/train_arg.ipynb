{
 "cells": [
  {
   "cell_type": "code",
   "execution_count": null,
   "metadata": {},
   "outputs": [],
   "source": [
    "import seaborn as sns\n",
    "import torch\n",
    "from sklearn.metrics import accuracy_score, f1_score, classification_report\n",
    "from transformers import (AutoModelForSequenceClassification, AutoTokenizer,\n",
    "                          DataCollatorWithPadding, Trainer, TrainingArguments)\n",
    "import numpy as np\n",
    "\n",
    "from data import SharedTaskData\n"
   ]
  },
  {
   "cell_type": "markdown",
   "metadata": {},
   "source": [
    "# Prepare dataset"
   ]
  },
  {
   "cell_type": "code",
   "execution_count": null,
   "metadata": {},
   "outputs": [],
   "source": [
    "train_data = SharedTaskData(\"TaskA_train.csv\")\n",
    "dev_data = SharedTaskData(\"TaskA_dev.csv\")\n",
    "\n",
    "train_dataset_novelty = train_data.convert_to_hf_dataset(\"novelty\")\n",
    "train_dataset_validity = train_data.convert_to_hf_dataset(\"validity\")\n",
    "# Use feature mapping from training dataset to ensure features are mapped correctly\n",
    "dev_dataset_novelty = dev_data.convert_to_hf_dataset(\"novelty\", features=train_dataset_novelty.features)\n",
    "dev_dataset_validity = dev_data.convert_to_hf_dataset(\"validity\", features=train_dataset_validity.features)\n",
    "\n",
    "# Make sure internal label mapping is identical across datasets\n",
    "assert train_dataset_validity.features['validity_str']._str2int == dev_dataset_validity.features['validity_str']._str2int\n",
    "assert train_dataset_novelty.features['novelty_str']._str2int == dev_dataset_novelty.features['novelty_str']._str2int"
   ]
  },
  {
   "cell_type": "code",
   "execution_count": null,
   "metadata": {},
   "outputs": [],
   "source": [
    "# investigate validity labels\n",
    "print(train_dataset_validity.features['validity_str']._str2int)\n",
    "sns.displot(train_dataset_validity['validity_str'])"
   ]
  },
  {
   "cell_type": "code",
   "execution_count": null,
   "metadata": {},
   "outputs": [],
   "source": [
    "# .. and novelty labels\n",
    "print(train_dataset_novelty.features['novelty_str']._str2int)\n",
    "sns.displot(train_dataset_novelty['novelty_str'])"
   ]
  },
  {
   "cell_type": "code",
   "execution_count": null,
   "metadata": {},
   "outputs": [],
   "source": [
    "# Random Baseline novelty\n",
    "print(\"Novelty\")\n",
    "y_true = np.array(dev_dataset_novelty['novelty_str'])\n",
    "y_pred = np.random.randint(low=0, high=2, size=len(dev_dataset_novelty))\n",
    "print(classification_report(y_true, y_pred))\n",
    "\n",
    "# Random Baseline validity\n",
    "print(\"Validity\")\n",
    "y_true = np.array(dev_dataset_validity['validity_str'])\n",
    "y_pred = np.random.randint(low=0, high=2, size=len(dev_dataset_validity))\n",
    "print(classification_report(y_true, y_pred))\n",
    "\n",
    "# Majority Baseline novelty\n",
    "print(\"Novelty\")\n",
    "y_true = np.array(dev_dataset_novelty['novelty_str'])\n",
    "y_pred = np.array([train_dataset_novelty.features['novelty_str']._str2int['not-novel']] * len(dev_dataset_novelty))\n",
    "print(classification_report(y_true, y_pred))\n",
    "\n",
    "# Majority Baseline validity\n",
    "print(\"Validity\")\n",
    "y_true = np.array(dev_dataset_validity['validity_str'])\n",
    "y_pred = np.array([train_dataset_validity.features['validity_str']._str2int['valid']] * len(dev_dataset_validity))\n",
    "print(classification_report(y_true, y_pred))"
   ]
  },
  {
   "cell_type": "markdown",
   "metadata": {},
   "source": [
    "# Data imbalance\n",
    "We suffer from some data imbalance so we may need to oversample."
   ]
  },
  {
   "cell_type": "code",
   "execution_count": null,
   "metadata": {},
   "outputs": [],
   "source": [
    "# We focus on predicting Validity label for now\n",
    "checkpoint = \"bert-base-uncased\"\n",
    "tokenizer = AutoTokenizer.from_pretrained(checkpoint)\n",
    "model = AutoModelForSequenceClassification.from_pretrained(\n",
    "    checkpoint, \n",
    "    num_labels=train_dataset_validity.features['validity_str'].num_classes,\n",
    "    label2id=train_dataset_validity.features['validity_str']._str2int, \n",
    "    id2label={v:k for k, v in train_dataset_validity.features['validity_str']._str2int.items()},\n",
    ")\n",
    "\n",
    "\n",
    "def tokenize_function_val(examples):\n",
    "    batch_size = len(examples['Premise'])\n",
    "    batched_inputs = [\n",
    "        examples['topic'][i] + tokenizer.sep_token + \\\n",
    "        examples['Premise'][i] + tokenizer.sep_token + \\\n",
    "        examples['Conclusion'][i] for i in range(batch_size)\n",
    "    ]\n",
    "    samples = tokenizer(batched_inputs, truncation=True, padding=True)\n",
    "    samples['labels'] = examples['validity_str']\n",
    "    return samples \n",
    "\n",
    "def tokenize_function_nov(examples):\n",
    "    batch_size = len(examples['Premise'])\n",
    "    batched_inputs = [\n",
    "        examples['topic'][i] + tokenizer.sep_token + \\\n",
    "        examples['Premise'][i] + tokenizer.sep_token + \\\n",
    "        examples['Conclusion'][i] for i in range(batch_size)\n",
    "    ]\n",
    "    samples = tokenizer(batched_inputs, truncation=True, padding=True)\n",
    "    samples['labels'] = examples['novelty_str']\n",
    "    return samples \n",
    "\n",
    "\n",
    "tokenized_train_dataset_validity = train_dataset_validity.map(tokenize_function_val, batched=True)\n",
    "tokenized_dev_dataset_validity = dev_dataset_validity.map(tokenize_function_val, batched=True)\n",
    "tokenized_train_dataset_validity.set_format(type='torch', columns=['input_ids', 'token_type_ids', 'attention_mask', 'labels'])\n",
    "tokenized_dev_dataset_validity.set_format(type='torch', columns=['input_ids', 'token_type_ids', 'attention_mask', 'labels'])\n",
    "tokenized_train_dataset_novelty = train_dataset_novelty.map(tokenize_function_nov, batched=True)\n",
    "tokenized_dev_dataset_novelty = dev_dataset_novelty.map(tokenize_function_nov, batched=True)\n",
    "tokenized_train_dataset_novelty.set_format(type='torch', columns=['input_ids', 'token_type_ids', 'attention_mask', 'labels'])\n",
    "tokenized_dev_dataset_novelty.set_format(type='torch', columns=['input_ids', 'token_type_ids', 'attention_mask', 'labels'])"
   ]
  },
  {
   "cell_type": "code",
   "execution_count": null,
   "metadata": {},
   "outputs": [],
   "source": [
    "# define metrics\n",
    "\n",
    "def single_label_metrics(predictions, labels):\n",
    "    softmax = torch.nn.Softmax(dim=1)\n",
    "    preds = torch.Tensor(predictions)\n",
    "    probs = softmax(preds)\n",
    "    y_pred = torch.argmax(probs, dim=1)\n",
    "    y_true = labels\n",
    "    f1_micro_average = f1_score(y_true=y_true, y_pred=y_pred, average='macro')\n",
    "    accuracy = accuracy_score(y_true, y_pred)\n",
    "    return {'f1': f1_micro_average, 'accuracy': accuracy}\n",
    "\n",
    "def compute_metrics(p):\n",
    "    preds = p.predictions[0] if isinstance(p.predictions, tuple) else p.predictions\n",
    "    return single_label_metrics(\n",
    "        predictions=preds, \n",
    "        labels=p.label_ids\n",
    "    )"
   ]
  },
  {
   "cell_type": "code",
   "execution_count": null,
   "metadata": {},
   "outputs": [],
   "source": [
    "training_args = TrainingArguments(\n",
    "    \"argmining2022_trainer\",\n",
    "    num_train_epochs=10,\n",
    "    logging_strategy=\"epoch\",\n",
    "    evaluation_strategy=\"epoch\",\n",
    "    save_strategy=\"epoch\",\n",
    ")\n",
    "\n",
    "data_collator = DataCollatorWithPadding(tokenizer=tokenizer)\n",
    "trainer = Trainer(\n",
    "    model,\n",
    "    training_args,\n",
    "    train_dataset=tokenized_train_dataset_validity,\n",
    "    eval_dataset=tokenized_dev_dataset_validity,\n",
    "    data_collator=data_collator,\n",
    "    tokenizer=tokenizer,\n",
    "    compute_metrics=compute_metrics,\n",
    ")"
   ]
  },
  {
   "cell_type": "code",
   "execution_count": null,
   "metadata": {},
   "outputs": [],
   "source": [
    "trainer.train()"
   ]
  },
  {
   "cell_type": "markdown",
   "metadata": {},
   "source": [
    "# Multi-Task Learning\n",
    "Code inspired by [here](https://colab.research.google.com/github/zphang/zphang.github.io/blob/master/files/notebooks/Multi_task_Training_with_Transformers_NLP.ipynb#scrollTo=yrtS3ZeSsoZw).\n"
   ]
  },
  {
   "cell_type": "code",
   "execution_count": null,
   "metadata": {},
   "outputs": [],
   "source": [
    "from models import MultitaskModel\n",
    "import transformers"
   ]
  },
  {
   "cell_type": "code",
   "execution_count": null,
   "metadata": {},
   "outputs": [],
   "source": [
    "model_name = \"roberta-base\"\n",
    "multitask_model = MultitaskModel.create(\n",
    "    model_name=model_name,\n",
    "    model_type_dict={\n",
    "        \"novelty\": transformers.AutoModelForSequenceClassification,\n",
    "        \"validity\": transformers.AutoModelForSequenceClassification,\n",
    "    },\n",
    "    model_config_dict={\n",
    "        \"novelty\": transformers.AutoConfig.from_pretrained(model_name, num_labels=2),\n",
    "        \"validity\": transformers.AutoConfig.from_pretrained(model_name, num_labels=2),\n",
    "    },\n",
    ")\n",
    "\n",
    "if model_name.startswith(\"roberta-\"):\n",
    "    print(multitask_model.encoder.embeddings.word_embeddings.weight.data_ptr())\n",
    "    print(multitask_model.taskmodels_dict[\"novelty\"].roberta.embeddings.word_embeddings.weight.data_ptr())\n",
    "    print(multitask_model.taskmodels_dict[\"validity\"].roberta.embeddings.word_embeddings.weight.data_ptr())\n",
    "else:\n",
    "    print(\"Exercise for the reader: add a check for other model architectures =)\")"
   ]
  },
  {
   "cell_type": "code",
   "execution_count": null,
   "metadata": {},
   "outputs": [],
   "source": [
    "from trainers import MultitaskTrainer, NLPDataCollator\n",
    "import os\n",
    "os.environ[\"CUDA_LAUNCH_BLOCKING\"] = \"1\"\n",
    "\n",
    "train_dataset = {\n",
    "    \"validity\": tokenized_train_dataset_validity,\n",
    "    \"novelty\": tokenized_train_dataset_novelty\n",
    "}\n",
    "\n",
    "val_dataset = {\n",
    "    \"validity\": tokenized_dev_dataset_validity,\n",
    "    \"novelty\": tokenized_dev_dataset_novelty\n",
    "}\n",
    "\n",
    "\n",
    "training_args = TrainingArguments(\n",
    "    \"argmining2022_trainer_mtl\",\n",
    "    num_train_epochs=10,\n",
    "    logging_strategy=\"epoch\",\n",
    "    evaluation_strategy=\"epoch\",\n",
    "    save_strategy=\"epoch\",\n",
    ")\n",
    "\n",
    "trainer = MultitaskTrainer(\n",
    "    model=multitask_model,\n",
    "    args=training_args,\n",
    "    data_collator=NLPDataCollator(tokenizer=tokenizer),\n",
    "    train_dataset=train_dataset,\n",
    "    eval_dataset=val_dataset\n",
    ")"
   ]
  },
  {
   "cell_type": "code",
   "execution_count": null,
   "metadata": {},
   "outputs": [],
   "source": [
    "trainer.train()"
   ]
  },
  {
   "cell_type": "code",
   "execution_count": null,
   "metadata": {},
   "outputs": [],
   "source": []
  }
 ],
 "metadata": {
  "kernelspec": {
   "display_name": "Python 3 (ipykernel)",
   "language": "python",
   "name": "python3"
  },
  "language_info": {
   "codemirror_mode": {
    "name": "ipython",
    "version": 3
   },
   "file_extension": ".py",
   "mimetype": "text/x-python",
   "name": "python",
   "nbconvert_exporter": "python",
   "pygments_lexer": "ipython3",
   "version": "3.9.13"
  },
  "orig_nbformat": 4,
  "vscode": {
   "interpreter": {
    "hash": "36cf16204b8548560b1c020c4e8fb5b57f0e4c58016f52f2d4be01e192833930"
   }
  }
 },
 "nbformat": 4,
 "nbformat_minor": 2
}
