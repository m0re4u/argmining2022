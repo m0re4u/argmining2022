{
 "cells": [
  {
   "cell_type": "code",
   "execution_count": 19,
   "id": "93183bc6-a325-4997-87af-912ee98e27d4",
   "metadata": {},
   "outputs": [],
   "source": [
    "from collections import defaultdict\n",
    "\n",
    "import matplotlib.pyplot as plt\n",
    "import numpy as np\n",
    "import torch\n",
    "import transformers\n",
    "from transformers import TrainingArguments, set_seed\n",
    "\n",
    "from data import SharedTaskData\n",
    "from models import MultitaskModel\n",
    "from train_mtl import Tokenize, compute_metrics, prepare_data\n",
    "from trainers import MultitaskTrainer, NLPDataCollator, TASK_NAMES"
   ]
  },
  {
   "cell_type": "code",
   "execution_count": 20,
   "id": "5c2c6fb0",
   "metadata": {
    "pycharm": {
     "name": "#%%\n"
    }
   },
   "outputs": [],
   "source": [
    "# Set variables.\n",
    "checkpoint: str = \"hftrainer_am_mtl_../SimCSE/result/novelty-sup-simcse-sup-roberta-large-mnli/_10_1e-05_0/checkpoint-846\"\n",
    "use_model: str = \"roberta-large-mnli\"\n",
    "seed: int = 0\n",
    "tensorflows: bool = False"
   ]
  },
  {
   "cell_type": "code",
   "execution_count": 21,
   "id": "a69aecc3",
   "metadata": {
    "pycharm": {
     "name": "#%%\n"
    }
   },
   "outputs": [
    {
     "name": "stderr",
     "output_type": "stream",
     "text": [
      "Could not locate the tokenizer configuration file, will try to use the model config instead.\n",
      "loading configuration file https://huggingface.co/roberta-large-mnli/resolve/main/config.json from cache at /home/mvandermee/.cache/huggingface/transformers/fab42bdbd5cb5e6ff7cabeb9bcc12728f56022f50b9644a3079904564f2bc704.ddc5961cccf081d6ca7f4f58ee119c21895aa9b19f0044f01954cd2ff42fefcb\n",
      "Model config RobertaConfig {\n",
      "  \"_name_or_path\": \"roberta-large-mnli\",\n",
      "  \"_num_labels\": 3,\n",
      "  \"architectures\": [\n",
      "    \"RobertaForSequenceClassification\"\n",
      "  ],\n",
      "  \"attention_probs_dropout_prob\": 0.1,\n",
      "  \"bos_token_id\": 0,\n",
      "  \"classifier_dropout\": null,\n",
      "  \"eos_token_id\": 2,\n",
      "  \"hidden_act\": \"gelu\",\n",
      "  \"hidden_dropout_prob\": 0.1,\n",
      "  \"hidden_size\": 1024,\n",
      "  \"id2label\": {\n",
      "    \"0\": \"CONTRADICTION\",\n",
      "    \"1\": \"NEUTRAL\",\n",
      "    \"2\": \"ENTAILMENT\"\n",
      "  },\n",
      "  \"initializer_range\": 0.02,\n",
      "  \"intermediate_size\": 4096,\n",
      "  \"label2id\": {\n",
      "    \"CONTRADICTION\": 0,\n",
      "    \"ENTAILMENT\": 2,\n",
      "    \"NEUTRAL\": 1\n",
      "  },\n",
      "  \"layer_norm_eps\": 1e-05,\n",
      "  \"max_position_embeddings\": 514,\n",
      "  \"model_type\": \"roberta\",\n",
      "  \"num_attention_heads\": 16,\n",
      "  \"num_hidden_layers\": 24,\n",
      "  \"pad_token_id\": 1,\n",
      "  \"position_embedding_type\": \"absolute\",\n",
      "  \"transformers_version\": \"4.20.0\",\n",
      "  \"type_vocab_size\": 1,\n",
      "  \"use_cache\": true,\n",
      "  \"vocab_size\": 50265\n",
      "}\n",
      "\n",
      "loading file https://huggingface.co/roberta-large-mnli/resolve/main/vocab.json from cache at /home/mvandermee/.cache/huggingface/transformers/64a1d72b2bd05b0aff1a4dd9e7a90a6eea0312b4f914e80b0a923aa8f72219bd.d67d6b367eb24ab43b08ad55e014cf254076934f71d832bbab9ad35644a375ab\n",
      "loading file https://huggingface.co/roberta-large-mnli/resolve/main/merges.txt from cache at /home/mvandermee/.cache/huggingface/transformers/425529714b758f50b6d3f93f8093d859856fd41cf1cec7c8edf2ab44aee632b6.5d12962c5ee615a4c803841266e9c3be9a691a924f72d395d3a6c6c81157788b\n",
      "loading file https://huggingface.co/roberta-large-mnli/resolve/main/tokenizer.json from cache at /home/mvandermee/.cache/huggingface/transformers/d077eac6b48c43618a441cba6eab600a5cc6383b98e7eada6d1ad4d3f3cc457e.fc9576039592f026ad76a1c231b89aee8668488c671dfbe6616bab2ed298d730\n",
      "loading file https://huggingface.co/roberta-large-mnli/resolve/main/added_tokens.json from cache at None\n",
      "loading file https://huggingface.co/roberta-large-mnli/resolve/main/special_tokens_map.json from cache at None\n",
      "loading file https://huggingface.co/roberta-large-mnli/resolve/main/tokenizer_config.json from cache at None\n",
      "loading configuration file https://huggingface.co/roberta-large-mnli/resolve/main/config.json from cache at /home/mvandermee/.cache/huggingface/transformers/fab42bdbd5cb5e6ff7cabeb9bcc12728f56022f50b9644a3079904564f2bc704.ddc5961cccf081d6ca7f4f58ee119c21895aa9b19f0044f01954cd2ff42fefcb\n",
      "Model config RobertaConfig {\n",
      "  \"_name_or_path\": \"roberta-large-mnli\",\n",
      "  \"_num_labels\": 3,\n",
      "  \"architectures\": [\n",
      "    \"RobertaForSequenceClassification\"\n",
      "  ],\n",
      "  \"attention_probs_dropout_prob\": 0.1,\n",
      "  \"bos_token_id\": 0,\n",
      "  \"classifier_dropout\": null,\n",
      "  \"eos_token_id\": 2,\n",
      "  \"hidden_act\": \"gelu\",\n",
      "  \"hidden_dropout_prob\": 0.1,\n",
      "  \"hidden_size\": 1024,\n",
      "  \"id2label\": {\n",
      "    \"0\": \"CONTRADICTION\",\n",
      "    \"1\": \"NEUTRAL\",\n",
      "    \"2\": \"ENTAILMENT\"\n",
      "  },\n",
      "  \"initializer_range\": 0.02,\n",
      "  \"intermediate_size\": 4096,\n",
      "  \"label2id\": {\n",
      "    \"CONTRADICTION\": 0,\n",
      "    \"ENTAILMENT\": 2,\n",
      "    \"NEUTRAL\": 1\n",
      "  },\n",
      "  \"layer_norm_eps\": 1e-05,\n",
      "  \"max_position_embeddings\": 514,\n",
      "  \"model_type\": \"roberta\",\n",
      "  \"num_attention_heads\": 16,\n",
      "  \"num_hidden_layers\": 24,\n",
      "  \"pad_token_id\": 1,\n",
      "  \"position_embedding_type\": \"absolute\",\n",
      "  \"transformers_version\": \"4.20.0\",\n",
      "  \"type_vocab_size\": 1,\n",
      "  \"use_cache\": true,\n",
      "  \"vocab_size\": 50265\n",
      "}\n",
      "\n",
      "100%|███████████████████████████████████████████████████████████████████████████████████████████████████████████████████████████████████████████████████████████████████████████████████| 750/750 [00:00<00:00, 12053.66ex/s]\n",
      "Casting to class labels: 100%|████████████████████████████████████████████████████████████████████████████████████████████████████████████████████████████████████████████████████████████████| 1/1 [00:00<00:00, 105.84ba/s]\n",
      "Casting the dataset: 100%|████████████████████████████████████████████████████████████████████████████████████████████████████████████████████████████████████████████████████████████████████| 1/1 [00:00<00:00, 196.52ba/s]\n",
      "100%|███████████████████████████████████████████████████████████████████████████████████████████████████████████████████████████████████████████████████████████████████████████████████| 520/520 [00:00<00:00, 11864.17ex/s]\n",
      "Casting the dataset: 100%|████████████████████████████████████████████████████████████████████████████████████████████████████████████████████████████████████████████████████████████████████| 1/1 [00:00<00:00, 190.15ba/s]\n",
      "100%|██████████████████████████████████████████████████████████████████████████████████████████████████████████████████████████████████████████████████████████████████████████████████████████| 1/1 [00:00<00:00,  3.57ba/s]\n",
      "100%|██████████████████████████████████████████████████████████████████████████████████████████████████████████████████████████████████████████████████████████████████████████████████████████| 1/1 [00:00<00:00,  4.39ba/s]\n",
      "100%|███████████████████████████████████████████████████████████████████████████████████████████████████████████████████████████████████████████████████████████████████████████████████| 750/750 [00:00<00:00, 11715.93ex/s]\n",
      "Casting to class labels: 100%|████████████████████████████████████████████████████████████████████████████████████████████████████████████████████████████████████████████████████████████████| 1/1 [00:00<00:00, 106.68ba/s]\n",
      "Casting the dataset: 100%|████████████████████████████████████████████████████████████████████████████████████████████████████████████████████████████████████████████████████████████████████| 1/1 [00:00<00:00, 182.82ba/s]\n",
      "100%|███████████████████████████████████████████████████████████████████████████████████████████████████████████████████████████████████████████████████████████████████████████████████| 520/520 [00:00<00:00, 11992.49ex/s]\n",
      "Casting the dataset: 100%|████████████████████████████████████████████████████████████████████████████████████████████████████████████████████████████████████████████████████████████████████| 1/1 [00:00<00:00, 176.26ba/s]\n",
      "100%|██████████████████████████████████████████████████████████████████████████████████████████████████████████████████████████████████████████████████████████████████████████████████████████| 1/1 [00:00<00:00,  3.70ba/s]\n",
      "100%|██████████████████████████████████████████████████████████████████████████████████████████████████████████████████████████████████████████████████████████████████████████████████████████| 1/1 [00:00<00:00,  4.46ba/s]\n",
      "loading configuration file https://huggingface.co/roberta-large-mnli/resolve/main/config.json from cache at /home/mvandermee/.cache/huggingface/transformers/fab42bdbd5cb5e6ff7cabeb9bcc12728f56022f50b9644a3079904564f2bc704.ddc5961cccf081d6ca7f4f58ee119c21895aa9b19f0044f01954cd2ff42fefcb\n",
      "Model config RobertaConfig {\n",
      "  \"_name_or_path\": \"roberta-large-mnli\",\n",
      "  \"_num_labels\": 3,\n",
      "  \"architectures\": [\n",
      "    \"RobertaForSequenceClassification\"\n",
      "  ],\n",
      "  \"attention_probs_dropout_prob\": 0.1,\n",
      "  \"bos_token_id\": 0,\n",
      "  \"classifier_dropout\": null,\n",
      "  \"eos_token_id\": 2,\n",
      "  \"hidden_act\": \"gelu\",\n",
      "  \"hidden_dropout_prob\": 0.1,\n",
      "  \"hidden_size\": 1024,\n",
      "  \"initializer_range\": 0.02,\n",
      "  \"intermediate_size\": 4096,\n",
      "  \"layer_norm_eps\": 1e-05,\n",
      "  \"max_position_embeddings\": 514,\n",
      "  \"model_type\": \"roberta\",\n",
      "  \"num_attention_heads\": 16,\n",
      "  \"num_hidden_layers\": 24,\n",
      "  \"pad_token_id\": 1,\n",
      "  \"position_embedding_type\": \"absolute\",\n",
      "  \"transformers_version\": \"4.20.0\",\n",
      "  \"type_vocab_size\": 1,\n",
      "  \"use_cache\": true,\n",
      "  \"vocab_size\": 50265\n",
      "}\n",
      "\n",
      "loading configuration file https://huggingface.co/roberta-large-mnli/resolve/main/config.json from cache at /home/mvandermee/.cache/huggingface/transformers/fab42bdbd5cb5e6ff7cabeb9bcc12728f56022f50b9644a3079904564f2bc704.ddc5961cccf081d6ca7f4f58ee119c21895aa9b19f0044f01954cd2ff42fefcb\n",
      "Model config RobertaConfig {\n",
      "  \"_name_or_path\": \"roberta-large-mnli\",\n",
      "  \"_num_labels\": 3,\n",
      "  \"architectures\": [\n",
      "    \"RobertaForSequenceClassification\"\n",
      "  ],\n",
      "  \"attention_probs_dropout_prob\": 0.1,\n",
      "  \"bos_token_id\": 0,\n",
      "  \"classifier_dropout\": null,\n",
      "  \"eos_token_id\": 2,\n",
      "  \"hidden_act\": \"gelu\",\n",
      "  \"hidden_dropout_prob\": 0.1,\n",
      "  \"hidden_size\": 1024,\n",
      "  \"initializer_range\": 0.02,\n",
      "  \"intermediate_size\": 4096,\n",
      "  \"layer_norm_eps\": 1e-05,\n",
      "  \"max_position_embeddings\": 514,\n",
      "  \"model_type\": \"roberta\",\n",
      "  \"num_attention_heads\": 16,\n",
      "  \"num_hidden_layers\": 24,\n",
      "  \"pad_token_id\": 1,\n",
      "  \"position_embedding_type\": \"absolute\",\n",
      "  \"transformers_version\": \"4.20.0\",\n",
      "  \"type_vocab_size\": 1,\n",
      "  \"use_cache\": true,\n",
      "  \"vocab_size\": 50265\n",
      "}\n",
      "\n",
      "loading weights file https://huggingface.co/roberta-large-mnli/resolve/main/pytorch_model.bin from cache at /home/mvandermee/.cache/huggingface/transformers/63cbd98723b89863bcd86a8002e823de3004a139513559246690c65521cdc9b9.38ef55c51c84ab2e78e5a0e2ea9c25830fd074df70d2f10071eb9a1bc1586ca0\n",
      "Some weights of the model checkpoint at roberta-large-mnli were not used when initializing RobertaForSequenceClassification: ['roberta.pooler.dense.weight', 'roberta.pooler.dense.bias']\n",
      "- This IS expected if you are initializing RobertaForSequenceClassification from the checkpoint of a model trained on another task or with another architecture (e.g. initializing a BertForSequenceClassification model from a BertForPreTraining model).\n",
      "- This IS NOT expected if you are initializing RobertaForSequenceClassification from the checkpoint of a model that you expect to be exactly identical (initializing a BertForSequenceClassification model from a BertForSequenceClassification model).\n",
      "Some weights of RobertaForSequenceClassification were not initialized from the model checkpoint at roberta-large-mnli and are newly initialized because the shapes did not match:\n",
      "- classifier.out_proj.weight: found shape torch.Size([3, 1024]) in the checkpoint and torch.Size([2, 1024]) in the model instantiated\n",
      "- classifier.out_proj.bias: found shape torch.Size([3]) in the checkpoint and torch.Size([2]) in the model instantiated\n",
      "You should probably TRAIN this model on a down-stream task to be able to use it for predictions and inference.\n",
      "loading weights file https://huggingface.co/roberta-large-mnli/resolve/main/pytorch_model.bin from cache at /home/mvandermee/.cache/huggingface/transformers/63cbd98723b89863bcd86a8002e823de3004a139513559246690c65521cdc9b9.38ef55c51c84ab2e78e5a0e2ea9c25830fd074df70d2f10071eb9a1bc1586ca0\n",
      "Some weights of the model checkpoint at roberta-large-mnli were not used when initializing RobertaForSequenceClassification: ['roberta.pooler.dense.weight', 'roberta.pooler.dense.bias']\n",
      "- This IS expected if you are initializing RobertaForSequenceClassification from the checkpoint of a model trained on another task or with another architecture (e.g. initializing a BertForSequenceClassification model from a BertForPreTraining model).\n",
      "- This IS NOT expected if you are initializing RobertaForSequenceClassification from the checkpoint of a model that you expect to be exactly identical (initializing a BertForSequenceClassification model from a BertForSequenceClassification model).\n",
      "Some weights of RobertaForSequenceClassification were not initialized from the model checkpoint at roberta-large-mnli and are newly initialized because the shapes did not match:\n",
      "- classifier.out_proj.weight: found shape torch.Size([3, 1024]) in the checkpoint and torch.Size([2, 1024]) in the model instantiated\n",
      "- classifier.out_proj.bias: found shape torch.Size([3]) in the checkpoint and torch.Size([2]) in the model instantiated\n",
      "You should probably TRAIN this model on a down-stream task to be able to use it for predictions and inference.\n",
      "PyTorch: setting up devices\n",
      "The default value for the training argument `--report_to` will change in v5 (from all installed integrations to none). In v5, you will need to use `--report_to all` to get the same behavior as now. You should start updating your code and make this info disappear :-).\n"
     ]
    }
   ],
   "source": [
    "# Load dataset.\n",
    "set_seed(seed)\n",
    "tokenize = Tokenize(use_model, tensorflows, \"concatenation\", predict_only=False)\n",
    "torch.backends.cudnn.deterministic = True\n",
    "\n",
    "train_data = SharedTaskData(\"TaskA_train.csv\")\n",
    "dev_data = SharedTaskData(\"TaskA_test.csv\")\n",
    "\n",
    "tokenized_train_dataset_novelty, tokenized_dev_dataset_novelty = prepare_data(\n",
    "    use_model,\n",
    "    train_data,\n",
    "    dev_data,\n",
    "    \"novelty\",\n",
    "    tokenize.tokenize_function_nov\n",
    ")\n",
    "tokenized_train_dataset_validity, tokenized_dev_dataset_validity = prepare_data(\n",
    "    use_model,\n",
    "    train_data,\n",
    "    dev_data,\n",
    "    \"validity\",\n",
    "    tokenize.tokenize_function_val\n",
    ")\n",
    "\n",
    "if \"ArgumentRelation\" in use_model:\n",
    "    kwargs = {'pad_token_id': 1}\n",
    "else:\n",
    "    kwargs = {}\n",
    "\n",
    "# Load model.\n",
    "multitask_model = MultitaskModel.create(\n",
    "    model_name=use_model,\n",
    "    model_type_dict={\n",
    "        \"novelty\": transformers.AutoModelForSequenceClassification,\n",
    "        \"validity\": transformers.AutoModelForSequenceClassification,\n",
    "    },\n",
    "    model_config_dict={\n",
    "        \"novelty\": transformers.AutoConfig.from_pretrained(use_model, num_labels=2, **kwargs),\n",
    "        \"validity\": transformers.AutoConfig.from_pretrained(use_model, num_labels=2, **kwargs),\n",
    "    },\n",
    "    tensorflows=tensorflows\n",
    ")\n",
    "\n",
    "multitask_model.load_trainer_checkpoint(checkpoint)\n",
    "\n",
    "# Load trainer/evaluator.\n",
    "val_dataset = {\n",
    "    \"novelty\": tokenized_dev_dataset_novelty,\n",
    "    \"validity\": tokenized_dev_dataset_validity,\n",
    "}\n",
    "\n",
    "train_dataset = {\n",
    "    \"novelty\": tokenized_train_dataset_novelty,\n",
    "    \"validity\": tokenized_train_dataset_validity,\n",
    "}\n",
    "\n",
    "training_args = TrainingArguments(\n",
    "    f\"hftrainer_am_mtl_{use_model}_{seed}\",\n",
    "    label_names=['labels']\n",
    ")\n",
    "\n",
    "trainer = MultitaskTrainer(\n",
    "    model=multitask_model,\n",
    "    data_collator=NLPDataCollator(tokenizer=tokenize.tokenizer),\n",
    "    train_dataset=train_dataset,\n",
    "    eval_dataset=val_dataset,\n",
    "    tokenizer=tokenize.tokenizer,\n",
    "    compute_metrics=compute_metrics,\n",
    "    args=training_args,\n",
    ")"
   ]
  },
  {
   "cell_type": "code",
   "execution_count": 22,
   "id": "aca720e9",
   "metadata": {
    "pycharm": {
     "name": "#%%\n"
    }
   },
   "outputs": [
    {
     "name": "stderr",
     "output_type": "stream",
     "text": [
      "***** Running Prediction *****\n",
      "  Num examples = 520\n",
      "  Batch size = 16\n"
     ]
    },
    {
     "name": "stdout",
     "output_type": "stream",
     "text": [
      "Predicting novelty\n"
     ]
    },
    {
     "name": "stderr",
     "output_type": "stream",
     "text": [
      "/data/volume_2/venvs/vargmining/lib/python3.9/site-packages/torch/nn/parallel/_functions.py:68: UserWarning: Was asked to gather along dimension 0, but all input tensors were scalars; will instead unsqueeze and return a vector.\n",
      "  warnings.warn('Was asked to gather along dimension 0, but all '\n"
     ]
    },
    {
     "data": {
      "text/html": [
       "\n",
       "    <div>\n",
       "      \n",
       "      <progress value='66' max='33' style='width:300px; height:20px; vertical-align: middle;'></progress>\n",
       "      [33/33 00:17]\n",
       "    </div>\n",
       "    "
      ],
      "text/plain": [
       "<IPython.core.display.HTML object>"
      ]
     },
     "metadata": {},
     "output_type": "display_data"
    },
    {
     "name": "stderr",
     "output_type": "stream",
     "text": [
      "***** Running Prediction *****\n",
      "  Num examples = 520\n",
      "  Batch size = 16\n"
     ]
    },
    {
     "name": "stdout",
     "output_type": "stream",
     "text": [
      "Predicting validity\n"
     ]
    },
    {
     "name": "stderr",
     "output_type": "stream",
     "text": [
      "/data/volume_2/venvs/vargmining/lib/python3.9/site-packages/torch/nn/parallel/_functions.py:68: UserWarning: Was asked to gather along dimension 0, but all input tensors were scalars; will instead unsqueeze and return a vector.\n",
      "  warnings.warn('Was asked to gather along dimension 0, but all '\n"
     ]
    }
   ],
   "source": [
    "# Get predictions on validation set.\n",
    "outputs = trainer.predict(val_dataset)\n",
    "# for task in TASK_NAMES:\n",
    "    # print(f\"{task}: Amount of mistakes: {torch.sum(outputs[task]['predictions'] != torch.tensor(outputs[task]['labels']))}\")"
   ]
  },
  {
   "cell_type": "code",
   "execution_count": 23,
   "id": "07813ad2",
   "metadata": {},
   "outputs": [],
   "source": [
    "from sklearn.metrics import classification_report, confusion_matrix"
   ]
  },
  {
   "cell_type": "code",
   "execution_count": 24,
   "id": "7bb60c35",
   "metadata": {},
   "outputs": [
    {
     "name": "stdout",
     "output_type": "stream",
     "text": [
      "dict_keys(['novelty', 'validity'])\n",
      "\n",
      "[0 1 0 0 1 0 1 1 1 0 0 1 1 1 1 0 0 0 0 0 0 0 0 0 0 1 0 0 0 0 1 1 0 0 1 0 0\n",
      " 0 1 0 0 0 0 1 0 0 1 0 0 0 0 1 0 0 0 1 1 0 0 0 0 0 0 0 0 0 0 0 0 0 0 0 0 0\n",
      " 0 0 0 1 0 0 0 0 0 0 0 0 0 0 0 0 0 0 0 0 0 0 0 0 0 0 1 0 0 0 0 0 1 0 0 0 0\n",
      " 0 0 0 0 1 1 0 0 0 0 0 1 0 1 0 0 0 0 0 0 0 0 1 0 0 0 0 0 0 0 0 0 0 0 0 0 0\n",
      " 0 0 0 0 0 1 0 1 0 0 0 0 0 0 0 0 0 0 1 0 1 0 0 0 0 0 0 1 1 0 0 0 0 0 0 0 0\n",
      " 0 0 0 0 0 0 0 0 1 1 1 1 1 1 0 1 0 0 0 1 0 0 0 1 1 0 0 0 0 0 1 0 1 0 0 0 0\n",
      " 0 1 0 0 0 0 1 0 0 0 0 1 0 0 0 0 0 0 0 0 0 0 0 0 0 0 0 0 0 0 1 0 0 0 0 1 0\n",
      " 0 0 0 0 0 0 0 0 0 0 0 0 0 0 0 0 0 0 1 0 0 0 0 0 0 0 0 0 0 0 1 0 0 1 0 0 0\n",
      " 0 0 0 0 0 0 1 1 1 1 0 1 0 0 0 0 0 0 0 0 0 0 1 0 1 0 0 0 0 0 0 0 0 0 0 0 0\n",
      " 0 0 0 0 0 0 0 0 0 0 0 0 1 0 0 1 1 0 0 0 0 0 0 1 1 1 0 1 0 1 1 0 0 0 1 1 1\n",
      " 1 0 1 0 1 0 0 0 0 0 0 0 0 0 0 0 0 0 0 0 0 0 0 0 0 0 1 0 0 0 0 0 0 0 0 0 0\n",
      " 0 0 0 0 1 1 1 1 0 0 1 0 1 1 0 0 0 0 0 0 0 0 0 1 0 0 0 1 0 0 0 0 0 1 0 0 0\n",
      " 0 0 0 1 0 1 0 0 0 1 0 0 0 1 0 1 1 1 1 0 1 1 0 1 0 1 0 0 0 0 0 0 0 0 0 0 0\n",
      " 1 1 0 0 0 0 1 0 1 0 0 1 0 1 0 0 0 0 1 1 1 0 1 1 0 0 0 0 0 1 0 0 0 0 0 0 0\n",
      " 0 0]\n",
      "VALIDITY\n",
      "              precision    recall  f1-score   support\n",
      "\n",
      "           0      0.364     0.806     0.502        93\n",
      "           1      0.943     0.693     0.799       427\n",
      "\n",
      "    accuracy                          0.713       520\n",
      "   macro avg      0.653     0.750     0.650       520\n",
      "weighted avg      0.839     0.713     0.746       520\n",
      "\n",
      "[[ 75 131]\n",
      " [ 18 296]]\n",
      "NOVELTY\n",
      "              precision    recall  f1-score   support\n",
      "\n",
      "           0      0.901     0.646     0.753       410\n",
      "           1      0.358     0.736     0.482       110\n",
      "\n",
      "    accuracy                          0.665       520\n",
      "   macro avg      0.630     0.691     0.617       520\n",
      "weighted avg      0.787     0.665     0.696       520\n",
      "\n",
      "[[265  29]\n",
      " [145  81]]\n"
     ]
    }
   ],
   "source": [
    "print(outputs.keys())\n",
    "print()\n",
    "print(np.argmax(outputs['novelty'].predictions, axis=1))\n",
    "\n",
    "model_output_val = np.argmax(outputs['validity'].predictions, axis=1)\n",
    "model_output_nov = np.argmax(outputs['novelty'].predictions, axis=1)\n",
    "print(\"VALIDITY\")\n",
    "val_true = dev_data.df.Validity.apply(lambda x: 1 if x == 1 else 0)\n",
    "print(classification_report(model_output_val, val_true, digits=3))\n",
    "print(confusion_matrix(model_output_val, val_true).T)\n",
    "\n",
    "print(\"NOVELTY\")\n",
    "nov_true = dev_data.df.Novelty.apply(lambda x: 1 if x == 1 else 0)\n",
    "print(classification_report(model_output_nov, nov_true, digits=3))\n",
    "print(confusion_matrix(model_output_nov, nov_true).T)"
   ]
  },
  {
   "cell_type": "code",
   "execution_count": 25,
   "id": "3a05cc65",
   "metadata": {},
   "outputs": [
    {
     "name": "stdout",
     "output_type": "stream",
     "text": [
      "VALIDITY\n",
      "              precision    recall  f1-score   support\n",
      "\n",
      "           0      0.583     0.670     0.623       179\n",
      "           1      0.812     0.748     0.779       341\n",
      "\n",
      "    accuracy                          0.721       520\n",
      "   macro avg      0.697     0.709     0.701       520\n",
      "weighted avg      0.733     0.721     0.725       520\n",
      "\n",
      "[[120  86]\n",
      " [ 59 255]]\n",
      "NOVELTY\n",
      "              precision    recall  f1-score   support\n",
      "\n",
      "           0      0.816     0.570     0.671       421\n",
      "           1      0.199     0.455     0.277        99\n",
      "\n",
      "    accuracy                          0.548       520\n",
      "   macro avg      0.508     0.512     0.474       520\n",
      "weighted avg      0.699     0.548     0.596       520\n",
      "\n",
      "[[157  49]\n",
      " [264  50]]\n"
     ]
    }
   ],
   "source": [
    "import json\n",
    "with open(\"predictions/dump_prompt_5_eval=True_results.json\") as f:\n",
    "    d = json.load(f)\n",
    "\n",
    "pred_val_gpt = [1 if x['pred_val'] == 'valid' else 0 for x in d ]\n",
    "pred_nov_gpt = [1 if x['pred_nov'] == 'novel' else 0 for x in d ]\n",
    "print(\"VALIDITY\")\n",
    "print(classification_report(pred_val_gpt, val_true, digits=3))\n",
    "print(confusion_matrix(pred_val_gpt, val_true).T)\n",
    "print(\"NOVELTY\")\n",
    "print(classification_report(pred_nov_gpt, nov_true, digits=3))\n",
    "print(confusion_matrix(pred_nov_gpt, val_true).T)"
   ]
  },
  {
   "cell_type": "code",
   "execution_count": 26,
   "id": "e0d54ce5",
   "metadata": {
    "pycharm": {
     "name": "#%%\n"
    }
   },
   "outputs": [
    {
     "name": "stdout",
     "output_type": "stream",
     "text": [
      "CLTeamL-1 validity\n",
      "0\t0.13076923076923078\t0.19038461538461537\n",
      "1\t0.13653846153846153\t0.5153846153846153\n",
      "2\t0.011538461538461539\t0.015384615384615385\n",
      "CLTeamL-1 novelty\n",
      "0\t0.28846153846153844\t0.2865384615384615\n",
      "1\t0.16153846153846155\t0.25\n",
      "2\t0.0019230769230769232\t0.011538461538461539\n",
      "CLTeamL-2 validity\n",
      "0\t0.14038461538461539\t0.18076923076923077\n",
      "1\t0.1326923076923077\t0.5192307692307693\n",
      "2\t0.013461538461538462\t0.013461538461538462\n",
      "CLTeamL-2 novelty\n",
      "0\t0.24423076923076922\t0.33076923076923076\n",
      "1\t0.09038461538461538\t0.3211538461538462\n",
      "2\t0\t0.013461538461538462\n"
     ]
    },
    {
     "data": {
      "image/png": "[encoded data removed]",
      "text/plain": [
       "<Figure size 432x288 with 1 Axes>"
      ]
     },
     "metadata": {},
     "output_type": "display_data"
    },
    {
     "data": {
      "image/png": "[encoded data removed]",
      "text/plain": [
       "<Figure size 432x288 with 1 Axes>"
      ]
     },
     "metadata": {},
     "output_type": "display_data"
    },
    {
     "data": {
      "image/png": "[encoded data removed]",
      "text/plain": [
       "<Figure size 432x288 with 1 Axes>"
      ]
     },
     "metadata": {},
     "output_type": "display_data"
    },
    {
     "data": {
      "image/png": "[encoded data removed]",
      "text/plain": [
       "<Figure size 432x288 with 1 Axes>"
      ]
     },
     "metadata": {},
     "output_type": "display_data"
    },
    {
     "data": {
      "image/png": "[encoded data removed]",
      "text/plain": [
       "<Figure size 432x288 with 1 Axes>"
      ]
     },
     "metadata": {},
     "output_type": "display_data"
    }
   ],
   "source": [
    "# Get (mis-)classification of predictions based on confidence of annotation.\n",
    "%matplotlib inline\n",
    "\n",
    "# Retrieve confidences of the mistakes and correct classifications.\n",
    "def plot_confidences(predictions, labels, task, approach):\n",
    "    mistakes_idxs = (np.array(predictions) != np.array(labels)).nonzero()\n",
    "    confs_mistakes = dev_data.df.iloc[mistakes_idxs][f\"{task.capitalize()}-Confidence\"]\n",
    "    correct_idxs = (np.array(predictions) == np.array(labels)).nonzero()\n",
    "    confs_correct = dev_data.df.iloc[correct_idxs][f\"{task.capitalize()}-Confidence\"]\n",
    "    # Normalize over the total count of mistakes and corrects respectively.\n",
    "    confs_mistakes = {k: v / len(predictions) for k, v in confs_mistakes.value_counts().to_dict().items()}\n",
    "    confs_correct = {k: v / len(predictions) for k, v in confs_correct.value_counts().to_dict().items()}\n",
    "    \n",
    "    # Uncomment if background is black so text of plot is white.\n",
    "    params = {\"ytick.color\" : \"black\",\n",
    "              \"xtick.color\" : \"black\",\n",
    "              \"axes.labelcolor\" : \"black\",\n",
    "              \"figure.facecolor\": \"w\",\n",
    "              \"axes.edgecolor\" : \"black\"}\n",
    "    plt.rcParams.update(params)\n",
    "    plt.title(f\"{task.capitalize()} - {approach}\", color='black')\n",
    "\n",
    "    np.random.seed(0)\n",
    "    plt.figure()\n",
    "    xticks = [0,1,2]\n",
    "    xticklabels = [\"majority\", \"very confident\", \"confident\"]\n",
    "    plt.xticks(xticks, xticklabels)\n",
    "    plt.xlabel('Confidence')\n",
    "    plt.ylabel('Relative Frequency')\n",
    "    plt.title(f\"{task.capitalize()} - {approach}\", color='black')\n",
    "\n",
    "    width = 0.3\n",
    "    xs = np.array(xticks)\n",
    "    ys_mistakes = [confs_mistakes.get(k, 0) for k in xticklabels]\n",
    "    ys_correct = []\n",
    "    ys_correct = [confs_correct[k] for k in xticklabels]\n",
    "    plt.bar(xs, ys_mistakes, label=\"mistakes\", width=width)\n",
    "    plt.bar(xs + width, ys_correct, label=\"correct\", width=width)\n",
    "    plt.legend()\n",
    "    plt.savefig(f\"confidence_{approach}_{task}.png\")\n",
    "    \n",
    "    print(approach, task)\n",
    "    for i in xs:\n",
    "        print(f\"{i}\\t{ys_mistakes[i]}\\t{ys_correct[i]}\")\n",
    "\n",
    "\n",
    "plot_confidences(pred_val_gpt, val_true, \"validity\", \"CLTeamL-1\")\n",
    "plot_confidences(pred_nov_gpt, nov_true, \"novelty\", \"CLTeamL-1\")\n",
    "\n",
    "plot_confidences(model_output_val, val_true, \"validity\", \"CLTeamL-2\")\n",
    "plot_confidences(model_output_nov, nov_true, \"novelty\", \"CLTeamL-2\")\n"
   ]
  },
  {
   "cell_type": "code",
   "execution_count": 27,
   "id": "50ad1e12",
   "metadata": {
    "pycharm": {
     "name": "#%%\n"
    }
   },
   "outputs": [
    {
     "name": "stdout",
     "output_type": "stream",
     "text": [
      "CLTeamL-1\n",
      "{'non-valid;non-novel': 0.31724137931034485, 'non-valid;novel': 0.27586206896551724, 'valid;non-novel': 0.2206896551724138, 'valid;novel': 0.18620689655172415}\n",
      "CLTeamL-1\n",
      "{'valid;novel': 0.4553191489361702, 'non-valid;non-novel': 0.1148936170212766, 'valid;non-novel': 0.1148936170212766, 'non-valid;novel': 0.3148936170212766}\n",
      "CLTeamL-2\n",
      "{'non-valid;novel': 0.4563758389261745, 'valid;novel': 0.11409395973154363, 'non-valid;non-novel': 0.4228187919463087, 'valid;non-novel': 0.006711409395973154}\n",
      "CLTeamL-2\n",
      "{'valid;novel': 0.45977011494252873, 'non-valid;non-novel': 0.09770114942528736, 'valid;non-novel': 0.06896551724137931, 'non-valid;novel': 0.3735632183908046}\n"
     ]
    }
   ],
   "source": [
    "# Get distribution of mistakes over combined labels.\n",
    "\n",
    "def get_mistake_dist(predictions, labels, task, approach):\n",
    "    idxs = (np.array(predictions) != np.array(labels)).nonzero()\n",
    "    val_mistakes = dev_data.df.iloc[idxs][\"Validity\"]\n",
    "    nov_mistakes = dev_data.df.iloc[idxs][\"Novelty\"]\n",
    "\n",
    "    counts = defaultdict(int)\n",
    "    for val_mistake, nov_mistake in zip(val_mistakes, nov_mistakes):\n",
    "        if val_mistake == -1 and nov_mistake == -1:\n",
    "            counts[\"non-valid;non-novel\"] += 1\n",
    "        elif val_mistake == 1 and nov_mistake == -1:\n",
    "            counts[\"valid;non-novel\"] += 1\n",
    "        elif val_mistake == -1 and nov_mistake == 1:\n",
    "            counts[\"non-valid;novel\"] += 1\n",
    "        elif val_mistake == 1 and nov_mistake == 1:\n",
    "            counts[\"valid;novel\"] += 1\n",
    "\n",
    "    counts = {k: v / len(val_mistakes) for k, v in counts.items()}\n",
    "    print(approach)\n",
    "    print(counts)\n",
    "\n",
    "\n",
    "get_mistake_dist(pred_val_gpt, val_true, \"validity\", \"CLTeamL-1\")\n",
    "get_mistake_dist(pred_nov_gpt, nov_true, \"novelty\", \"CLTeamL-1\")\n",
    "\n",
    "get_mistake_dist(model_output_val, val_true, \"validity\", \"CLTeamL-2\")\n",
    "get_mistake_dist(model_output_nov, nov_true, \"novelty\", \"CLTeamL-2\")"
   ]
  },
  {
   "cell_type": "code",
   "execution_count": 28,
   "id": "6da2073d",
   "metadata": {
    "pycharm": {
     "name": "#%%\n"
    }
   },
   "outputs": [
    {
     "name": "stdout",
     "output_type": "stream",
     "text": [
      "Score is percentage of mistakes per topic.\n",
      "== CLTeamL-1 - validity ==\n",
      "Veal                                            0.216216\n",
      "Vegetarianism                                   0.080000\n",
      "Video games                                          NaN\n",
      "Video surveillance                              0.250000\n",
      "War on Drugs                                    0.264151\n",
      "Warrantless wiretapping in the United States    0.148148\n",
      "Was the War in Iraq worth it?                   0.448276\n",
      "Water privatization                             0.244898\n",
      "Wave power                                      0.125000\n",
      "Wind energy                                     0.120000\n",
      "Withdrawing from Iraq                           0.380597\n",
      "Year-round school                               0.396552\n",
      "Yucca Mountain nuclear waste repository         0.375000\n",
      "Zero tolerance law                              0.210526\n",
      "Zoos                                                 NaN\n",
      "Name: topic, dtype: float64\n",
      "== CLTeamL-1 - novelty ==\n",
      "Veal                                            0.351351\n",
      "Vegetarianism                                   0.600000\n",
      "Video games                                          NaN\n",
      "Video surveillance                              0.250000\n",
      "War on Drugs                                    0.396226\n",
      "Warrantless wiretapping in the United States    0.592593\n",
      "Was the War in Iraq worth it?                   0.379310\n",
      "Water privatization                             0.408163\n",
      "Wave power                                      0.541667\n",
      "Wind energy                                     0.360000\n",
      "Withdrawing from Iraq                           0.492537\n",
      "Year-round school                               0.517241\n",
      "Yucca Mountain nuclear waste repository         0.625000\n",
      "Zero tolerance law                              0.526316\n",
      "Zoos                                            0.125000\n",
      "Name: topic, dtype: float64\n",
      "== CLTeamL-2 - validity ==\n",
      "Veal                                            0.351351\n",
      "Vegetarianism                                   0.400000\n",
      "Video games                                          NaN\n",
      "Video surveillance                              0.200000\n",
      "War on Drugs                                    0.245283\n",
      "Warrantless wiretapping in the United States    0.296296\n",
      "Was the War in Iraq worth it?                   0.344828\n",
      "Water privatization                             0.183673\n",
      "Wave power                                      0.250000\n",
      "Wind energy                                     0.200000\n",
      "Withdrawing from Iraq                           0.320896\n",
      "Year-round school                               0.293103\n",
      "Yucca Mountain nuclear waste repository         0.375000\n",
      "Zero tolerance law                              0.421053\n",
      "Zoos                                                 NaN\n",
      "Name: topic, dtype: float64\n",
      "== CLTeamL-2 - novelty ==\n",
      "Veal                                            0.324324\n",
      "Vegetarianism                                   0.440000\n",
      "Video games                                          NaN\n",
      "Video surveillance                              0.150000\n",
      "War on Drugs                                    0.301887\n",
      "Warrantless wiretapping in the United States    0.444444\n",
      "Was the War in Iraq worth it?                   0.413793\n",
      "Water privatization                             0.285714\n",
      "Wave power                                      0.250000\n",
      "Wind energy                                     0.080000\n",
      "Withdrawing from Iraq                           0.447761\n",
      "Year-round school                               0.293103\n",
      "Yucca Mountain nuclear waste repository         0.250000\n",
      "Zero tolerance law                              0.315789\n",
      "Zoos                                            0.125000\n",
      "Name: topic, dtype: float64\n"
     ]
    }
   ],
   "source": [
    "# Get percentage of mistakes per topic.\n",
    "def get_pct_mistakes(predictions, labels, task, approach):\n",
    "    idxs = (np.array(predictions) != np.array(labels)).nonzero()\n",
    "    topics_mistakes = dev_data.df.iloc[idxs][\"topic\"]\n",
    "\n",
    "    topic_results = topics_mistakes.value_counts() / dev_data.df[\"topic\"].value_counts()\n",
    "    print(f\"== {approach} - {task} ==\")\n",
    "    print(topic_results)\n",
    "\n",
    "print(\"Score is percentage of mistakes per topic.\")\n",
    "get_pct_mistakes(pred_val_gpt, val_true, 'validity', \"CLTeamL-1\")\n",
    "get_pct_mistakes(pred_nov_gpt, nov_true, 'novelty', \"CLTeamL-1\")\n",
    "\n",
    "get_pct_mistakes(model_output_val, val_true, 'validity', \"CLTeamL-2\")\n",
    "get_pct_mistakes(model_output_nov, nov_true, 'novelty', \"CLTeamL-2\")"
   ]
  }
 ],
 "metadata": {
  "kernelspec": {
   "display_name": "Python 3 (ipykernel)",
   "language": "python",
   "name": "python3"
  },
  "language_info": {
   "codemirror_mode": {
    "name": "ipython",
    "version": 3
   },
   "file_extension": ".py",
   "mimetype": "text/x-python",
   "name": "python",
   "nbconvert_exporter": "python",
   "pygments_lexer": "ipython3",
   "version": "3.9.13"
  },
  "vscode": {
   "interpreter": {
    "hash": "36cf16204b8548560b1c020c4e8fb5b57f0e4c58016f52f2d4be01e192833930"
   }
  }
 },
 "nbformat": 4,
 "nbformat_minor": 5
}
