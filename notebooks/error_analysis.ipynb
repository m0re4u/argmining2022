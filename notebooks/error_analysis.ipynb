{
 "cells": [
  {
   "cell_type": "code",
   "execution_count": 1,
   "id": "93183bc6-a325-4997-87af-912ee98e27d4",
   "metadata": {},
   "outputs": [],
   "source": [
    "from collections import defaultdict\n",
    "\n",
    "import matplotlib.pyplot as plt\n",
    "import numpy as np\n",
    "import torch\n",
    "import transformers\n",
    "from transformers import TrainingArguments, set_seed\n",
    "\n",
    "from data import SharedTaskData\n",
    "from models import MultitaskModel\n",
    "from train_mtl import Tokenize, compute_metrics, prepare_data\n",
    "from trainers import MultitaskTrainer, NLPDataCollator, TASK_NAMES"
   ]
  },
  {
   "cell_type": "code",
   "execution_count": 2,
   "outputs": [],
   "source": [
    "# Set variables.\n",
    "checkpoint: str = \"../../Downloads/checkpoint-470\"\n",
    "use_model: str = \"roberta-large-mnli\"\n",
    "seed: int = 0\n",
    "tensorflows: bool = False"
   ],
   "metadata": {
    "collapsed": false,
    "pycharm": {
     "name": "#%%\n"
    }
   }
  },
  {
   "cell_type": "code",
   "execution_count": 3,
   "outputs": [
    {
     "name": "stderr",
     "output_type": "stream",
     "text": [
      "Parameter 'function'=<function map_label at 0x7ff53ef85160> of the transform datasets.arrow_dataset.Dataset._map_single couldn't be hashed properly, a random hash was used instead. Make sure your transforms and parameters are serializable with pickle or dill for the dataset fingerprinting and caching to work. If you reuse this transform, the caching mechanism will consider it to be different from the previous calls and recompute everything. This warning is only showed once. Subsequent hashing failures won't be showed.\n",
      "Some weights of the model checkpoint at roberta-large-mnli were not used when initializing RobertaForSequenceClassification: ['roberta.pooler.dense.bias', 'roberta.pooler.dense.weight']\n",
      "- This IS expected if you are initializing RobertaForSequenceClassification from the checkpoint of a model trained on another task or with another architecture (e.g. initializing a BertForSequenceClassification model from a BertForPreTraining model).\n",
      "- This IS NOT expected if you are initializing RobertaForSequenceClassification from the checkpoint of a model that you expect to be exactly identical (initializing a BertForSequenceClassification model from a BertForSequenceClassification model).\n",
      "Some weights of RobertaForSequenceClassification were not initialized from the model checkpoint at roberta-large-mnli and are newly initialized because the shapes did not match:\n",
      "- classifier.out_proj.weight: found shape torch.Size([3, 1024]) in the checkpoint and torch.Size([2, 1024]) in the model instantiated\n",
      "- classifier.out_proj.bias: found shape torch.Size([3]) in the checkpoint and torch.Size([2]) in the model instantiated\n",
      "You should probably TRAIN this model on a down-stream task to be able to use it for predictions and inference.\n",
      "Some weights of the model checkpoint at roberta-large-mnli were not used when initializing RobertaForSequenceClassification: ['roberta.pooler.dense.bias', 'roberta.pooler.dense.weight']\n",
      "- This IS expected if you are initializing RobertaForSequenceClassification from the checkpoint of a model trained on another task or with another architecture (e.g. initializing a BertForSequenceClassification model from a BertForPreTraining model).\n",
      "- This IS NOT expected if you are initializing RobertaForSequenceClassification from the checkpoint of a model that you expect to be exactly identical (initializing a BertForSequenceClassification model from a BertForSequenceClassification model).\n",
      "Some weights of RobertaForSequenceClassification were not initialized from the model checkpoint at roberta-large-mnli and are newly initialized because the shapes did not match:\n",
      "- classifier.out_proj.weight: found shape torch.Size([3, 1024]) in the checkpoint and torch.Size([2, 1024]) in the model instantiated\n",
      "- classifier.out_proj.bias: found shape torch.Size([3]) in the checkpoint and torch.Size([2]) in the model instantiated\n",
      "You should probably TRAIN this model on a down-stream task to be able to use it for predictions and inference.\n"
     ]
    },
    {
     "data": {
      "text/plain": "  0%|          | 0/750 [00:00<?, ?ex/s]",
      "application/vnd.jupyter.widget-view+json": {
       "version_major": 2,
       "version_minor": 0,
       "model_id": "5feb0660314c4dfc80796904eceb7aaa"
      }
     },
     "metadata": {},
     "output_type": "display_data"
    },
    {
     "data": {
      "text/plain": "Casting to class labels:   0%|          | 0/1 [00:00<?, ?ba/s]",
      "application/vnd.jupyter.widget-view+json": {
       "version_major": 2,
       "version_minor": 0,
       "model_id": "a238c3ef0ea140e1a1ffca60b05e62a7"
      }
     },
     "metadata": {},
     "output_type": "display_data"
    },
    {
     "data": {
      "text/plain": "Casting the dataset:   0%|          | 0/1 [00:00<?, ?ba/s]",
      "application/vnd.jupyter.widget-view+json": {
       "version_major": 2,
       "version_minor": 0,
       "model_id": "50a8111de1d64035a921b8a6f98ac755"
      }
     },
     "metadata": {},
     "output_type": "display_data"
    },
    {
     "data": {
      "text/plain": "  0%|          | 0/202 [00:00<?, ?ex/s]",
      "application/vnd.jupyter.widget-view+json": {
       "version_major": 2,
       "version_minor": 0,
       "model_id": "3a0453e235a24756a02fce2ced293693"
      }
     },
     "metadata": {},
     "output_type": "display_data"
    },
    {
     "data": {
      "text/plain": "Casting the dataset:   0%|          | 0/1 [00:00<?, ?ba/s]",
      "application/vnd.jupyter.widget-view+json": {
       "version_major": 2,
       "version_minor": 0,
       "model_id": "2bc9800a4d0f4119bbc2b0cbdd6ca7cd"
      }
     },
     "metadata": {},
     "output_type": "display_data"
    },
    {
     "data": {
      "text/plain": "  0%|          | 0/1 [00:00<?, ?ba/s]",
      "application/vnd.jupyter.widget-view+json": {
       "version_major": 2,
       "version_minor": 0,
       "model_id": "a908ed6fb7d84ae68b9519f1eb772a5d"
      }
     },
     "metadata": {},
     "output_type": "display_data"
    },
    {
     "data": {
      "text/plain": "  0%|          | 0/1 [00:00<?, ?ba/s]",
      "application/vnd.jupyter.widget-view+json": {
       "version_major": 2,
       "version_minor": 0,
       "model_id": "0a4ac7bf268f4c42994bf5c1b0076ff2"
      }
     },
     "metadata": {},
     "output_type": "display_data"
    },
    {
     "data": {
      "text/plain": "  0%|          | 0/750 [00:00<?, ?ex/s]",
      "application/vnd.jupyter.widget-view+json": {
       "version_major": 2,
       "version_minor": 0,
       "model_id": "cdc712c3fed64ca78547752b3e3272f0"
      }
     },
     "metadata": {},
     "output_type": "display_data"
    },
    {
     "data": {
      "text/plain": "Casting to class labels:   0%|          | 0/1 [00:00<?, ?ba/s]",
      "application/vnd.jupyter.widget-view+json": {
       "version_major": 2,
       "version_minor": 0,
       "model_id": "3ffcda069e5f4070a8be2e471aff80dd"
      }
     },
     "metadata": {},
     "output_type": "display_data"
    },
    {
     "data": {
      "text/plain": "Casting the dataset:   0%|          | 0/1 [00:00<?, ?ba/s]",
      "application/vnd.jupyter.widget-view+json": {
       "version_major": 2,
       "version_minor": 0,
       "model_id": "85b7bf3038bb4f168edae005375b08b1"
      }
     },
     "metadata": {},
     "output_type": "display_data"
    },
    {
     "data": {
      "text/plain": "  0%|          | 0/202 [00:00<?, ?ex/s]",
      "application/vnd.jupyter.widget-view+json": {
       "version_major": 2,
       "version_minor": 0,
       "model_id": "c5b36125fba8463fbd30350a9adb7099"
      }
     },
     "metadata": {},
     "output_type": "display_data"
    },
    {
     "data": {
      "text/plain": "Casting the dataset:   0%|          | 0/1 [00:00<?, ?ba/s]",
      "application/vnd.jupyter.widget-view+json": {
       "version_major": 2,
       "version_minor": 0,
       "model_id": "db3d9481fd634548806b0aecd2871223"
      }
     },
     "metadata": {},
     "output_type": "display_data"
    },
    {
     "data": {
      "text/plain": "  0%|          | 0/1 [00:00<?, ?ba/s]",
      "application/vnd.jupyter.widget-view+json": {
       "version_major": 2,
       "version_minor": 0,
       "model_id": "c8497048fb614cf79bf2f61c319bb921"
      }
     },
     "metadata": {},
     "output_type": "display_data"
    },
    {
     "data": {
      "text/plain": "  0%|          | 0/1 [00:00<?, ?ba/s]",
      "application/vnd.jupyter.widget-view+json": {
       "version_major": 2,
       "version_minor": 0,
       "model_id": "548327105c4e4f92b1753ecca5584a8a"
      }
     },
     "metadata": {},
     "output_type": "display_data"
    },
    {
     "name": "stdout",
     "output_type": "stream",
     "text": [
      "huggingface/tokenizers: The current process just got forked, after parallelism has already been used. Disabling parallelism to avoid deadlocks...\n",
      "To disable this warning, you can either:\n",
      "\t- Avoid using `tokenizers` before the fork if possible\n",
      "\t- Explicitly set the environment variable TOKENIZERS_PARALLELISM=(true | false)\n",
      "huggingface/tokenizers: The current process just got forked, after parallelism has already been used. Disabling parallelism to avoid deadlocks...\n",
      "To disable this warning, you can either:\n",
      "\t- Avoid using `tokenizers` before the fork if possible\n",
      "\t- Explicitly set the environment variable TOKENIZERS_PARALLELISM=(true | false)\n"
     ]
    }
   ],
   "source": [
    "# Load dataset.\n",
    "set_seed(seed)\n",
    "tokenize = Tokenize(use_model, tensorflows, \"concatenation\")\n",
    "torch.backends.cudnn.deterministic = True\n",
    "\n",
    "train_data = SharedTaskData(\"TaskA_train.csv\")\n",
    "dev_data = SharedTaskData(\"TaskA_dev.csv\")\n",
    "\n",
    "tokenized_train_dataset_novelty, tokenized_dev_dataset_novelty = prepare_data(\n",
    "    use_model,\n",
    "    train_data,\n",
    "    dev_data,\n",
    "    \"novelty\",\n",
    "    tokenize.tokenize_function_nov\n",
    ")\n",
    "tokenized_train_dataset_validity, tokenized_dev_dataset_validity = prepare_data(\n",
    "    use_model,\n",
    "    train_data,\n",
    "    dev_data,\n",
    "    \"validity\",\n",
    "    tokenize.tokenize_function_val\n",
    ")\n",
    "\n",
    "if \"ArgumentRelation\" in use_model:\n",
    "    kwargs = {'pad_token_id': 1}\n",
    "else:\n",
    "    kwargs = {}\n",
    "\n",
    "# Load model.\n",
    "multitask_model = MultitaskModel.create(\n",
    "    model_name=use_model,\n",
    "    model_type_dict={\n",
    "        \"novelty\": transformers.AutoModelForSequenceClassification,\n",
    "        \"validity\": transformers.AutoModelForSequenceClassification,\n",
    "    },\n",
    "    model_config_dict={\n",
    "        \"novelty\": transformers.AutoConfig.from_pretrained(use_model, num_labels=2, **kwargs),\n",
    "        \"validity\": transformers.AutoConfig.from_pretrained(use_model, num_labels=2, **kwargs),\n",
    "    },\n",
    "    tensorflows=tensorflows\n",
    ")\n",
    "\n",
    "multitask_model.load_trainer_checkpoint(checkpoint)\n",
    "\n",
    "# Load trainer/evaluator.\n",
    "val_dataset = {\n",
    "    \"novelty\": tokenized_dev_dataset_novelty,\n",
    "    \"validity\": tokenized_dev_dataset_validity,\n",
    "}\n",
    "\n",
    "train_dataset = {\n",
    "    \"novelty\": tokenized_train_dataset_novelty,\n",
    "    \"validity\": tokenized_train_dataset_validity,\n",
    "}\n",
    "\n",
    "training_args = TrainingArguments(\n",
    "    f\"hftrainer_am_mtl_{use_model}_{seed}\",\n",
    "    label_names=['labels']\n",
    ")\n",
    "\n",
    "trainer = MultitaskTrainer(\n",
    "    model=multitask_model,\n",
    "    data_collator=NLPDataCollator(tokenizer=tokenize.tokenizer),\n",
    "    train_dataset=train_dataset,\n",
    "    eval_dataset=val_dataset,\n",
    "    tokenizer=tokenize.tokenizer,\n",
    "    compute_metrics=compute_metrics,\n",
    "    args=training_args,\n",
    ")"
   ],
   "metadata": {
    "collapsed": false,
    "pycharm": {
     "name": "#%%\n"
    }
   }
  },
  {
   "cell_type": "code",
   "execution_count": 4,
   "outputs": [
    {
     "name": "stderr",
     "output_type": "stream",
     "text": [
      "***** Running Prediction *****\n",
      "  Num examples = 202\n",
      "  Batch size = 8\n",
      "***** Running Prediction *****\n",
      "  Num examples = 202\n",
      "  Batch size = 8\n"
     ]
    },
    {
     "name": "stdout",
     "output_type": "stream",
     "text": [
      "Evaluating novelty\n",
      "Evaluating validity\n",
      "novelty: Amount of mistakes: 50\n",
      "validity: Amount of mistakes: 49\n"
     ]
    },
    {
     "data": {
      "text/plain": "<IPython.core.display.HTML object>",
      "text/html": "\n    <div>\n      \n      <progress value='1' max='26' style='width:300px; height:20px; vertical-align: middle;'></progress>\n      [ 1/26 : < :]\n    </div>\n    "
     },
     "metadata": {},
     "output_type": "display_data"
    }
   ],
   "source": [
    "# Get predictions on validation set.\n",
    "outputs = trainer.predict(val_dataset)\n",
    "\n",
    "for task in TASK_NAMES:\n",
    "    print(f\"{task}: Amount of mistakes: {torch.sum(outputs[task]['predictions'] != torch.tensor(outputs[task]['labels']))}\")"
   ],
   "metadata": {
    "collapsed": false,
    "pycharm": {
     "name": "#%%\n"
    }
   }
  },
  {
   "cell_type": "code",
   "execution_count": 5,
   "outputs": [
    {
     "name": "stderr",
     "output_type": "stream",
     "text": [
      "/Users/urjakhurana/miniconda3/envs/argmining2022/lib/python3.8/site-packages/pandas/core/indexing.py:1503: FutureWarning: The input object of type 'Tensor' is an array-like implementing one of the corresponding protocols (`__array__`, `__array_interface__` or `__array_struct__`); but not a sequence (or 0-D). In the future, this object will be coerced as if it was first converted using `np.array(obj)`. To retain the old behaviour, you have to either modify the type 'Tensor', or assign to an empty array created with `np.empty(correct_shape, dtype=object)`.\n",
      "  key = np.asarray(key)\n",
      "/Users/urjakhurana/miniconda3/envs/argmining2022/lib/python3.8/site-packages/pandas/core/indexing.py:1503: VisibleDeprecationWarning: Creating an ndarray from ragged nested sequences (which is a list-or-tuple of lists-or-tuples-or ndarrays with different lengths or shapes) is deprecated. If you meant to do this, you must specify 'dtype=object' when creating the ndarray.\n",
      "  key = np.asarray(key)\n"
     ]
    },
    {
     "data": {
      "text/plain": "<Figure size 432x288 with 1 Axes>",
      "image/png": "[encoded data removed]"
     },
     "metadata": {
      "needs_background": "light"
     },
     "output_type": "display_data"
    }
   ],
   "source": [
    "# Get (mis-)classification of predictions based on confidence of annotation.\n",
    "%matplotlib inline\n",
    "task = \"novelty\"\n",
    "\n",
    "# Retrieve confidences of the mistakes and correct classifications.\n",
    "idxs = (outputs[task]['predictions'] != torch.tensor(outputs[task]['labels'])).nonzero()\n",
    "confs_mistakes = dev_data.df.iloc[list(idxs)][f\"{task.capitalize()}-Confidence\"]\n",
    "idxs = (outputs[task]['predictions'] == torch.tensor(outputs[task]['labels'])).nonzero()\n",
    "confs_correct = dev_data.df.iloc[list(idxs)][f\"{task.capitalize()}-Confidence\"]\n",
    "\n",
    "# Normalize over the total count of mistakes and corrects respectively.\n",
    "confs_mistakes = {k: v / confs_mistakes.count() for k, v in confs_mistakes.value_counts().to_dict().items()}\n",
    "confs_correct = {k: v / confs_correct.count() for k, v in confs_correct.value_counts().to_dict().items()}\n",
    "\n",
    "# Uncomment if background is black so text of plot is white.\n",
    "# params = {\"ytick.color\" : \"w\",\n",
    "#           \"xtick.color\" : \"w\",\n",
    "#           \"axes.labelcolor\" : \"w\",\n",
    "#           \"axes.edgecolor\" : \"w\"}\n",
    "# plt.rcParams.update(params)\n",
    "# plt.title(f\"{task.capitalize()}-Confidence\", color=\"w\")\n",
    "\n",
    "np.random.seed(0)\n",
    "plt.xticks(range(len(list(confs_correct.keys()))), list(confs_correct.keys()))\n",
    "plt.xlabel('Confidence')\n",
    "plt.ylabel('Relative Frequency')\n",
    "plt.title(f\"{task.capitalize()}-Confidence\")\n",
    "\n",
    "width = 0.3\n",
    "plt.bar(range(len(confs_correct.keys())), [confs_mistakes.get(k, 0) for k in confs_correct.keys()], label=\"mistakes\", width=width)\n",
    "plt.bar(np.arange(len(confs_correct)) + width, confs_correct.values(), label=\"correct\", width=width)\n",
    "plt.legend()\n",
    "plt.show()\n"
   ],
   "metadata": {
    "collapsed": false,
    "pycharm": {
     "name": "#%%\n"
    }
   }
  },
  {
   "cell_type": "code",
   "execution_count": 6,
   "outputs": [
    {
     "name": "stdout",
     "output_type": "stream",
     "text": [
      "{'non-valid;non-novel': 0.14285714285714285, 'non-valid;novel': 0.22448979591836735, 'valid;non-novel': 0.40816326530612246, 'valid;novel': 0.20408163265306123}\n"
     ]
    },
    {
     "name": "stderr",
     "output_type": "stream",
     "text": [
      "/Users/urjakhurana/miniconda3/envs/argmining2022/lib/python3.8/site-packages/pandas/core/indexing.py:1503: FutureWarning: The input object of type 'Tensor' is an array-like implementing one of the corresponding protocols (`__array__`, `__array_interface__` or `__array_struct__`); but not a sequence (or 0-D). In the future, this object will be coerced as if it was first converted using `np.array(obj)`. To retain the old behaviour, you have to either modify the type 'Tensor', or assign to an empty array created with `np.empty(correct_shape, dtype=object)`.\n",
      "  key = np.asarray(key)\n",
      "/Users/urjakhurana/miniconda3/envs/argmining2022/lib/python3.8/site-packages/pandas/core/indexing.py:1503: VisibleDeprecationWarning: Creating an ndarray from ragged nested sequences (which is a list-or-tuple of lists-or-tuples-or ndarrays with different lengths or shapes) is deprecated. If you meant to do this, you must specify 'dtype=object' when creating the ndarray.\n",
      "  key = np.asarray(key)\n"
     ]
    }
   ],
   "source": [
    "# Get distribution of mistakes over combined labels.\n",
    "task = \"validity\"\n",
    "\n",
    "idxs = (outputs[task]['predictions'] != torch.tensor(outputs[task]['labels'])).nonzero()\n",
    "val_mistakes = dev_data.df.iloc[list(idxs)][\"Validity\"]\n",
    "nov_mistakes = dev_data.df.iloc[list(idxs)][\"Novelty\"]\n",
    "\n",
    "counts = defaultdict(int)\n",
    "for val_mistake, nov_mistake in zip(val_mistakes, nov_mistakes):\n",
    "    if val_mistake == -1 and nov_mistake == -1:\n",
    "        counts[\"non-valid;non-novel\"] += 1\n",
    "    elif val_mistake == 1 and nov_mistake == -1:\n",
    "        counts[\"valid;non-novel\"] += 1\n",
    "    elif val_mistake == -1 and nov_mistake == 1:\n",
    "        counts[\"non-valid;novel\"] += 1\n",
    "    elif val_mistake == 1 and nov_mistake == 1:\n",
    "        counts[\"valid;novel\"] += 1\n",
    "\n",
    "counts = {k: v / len(val_mistakes) for k, v in counts.items()}\n",
    "print(counts)"
   ],
   "metadata": {
    "collapsed": false,
    "pycharm": {
     "name": "#%%\n"
    }
   }
  },
  {
   "cell_type": "code",
   "execution_count": 7,
   "outputs": [
    {
     "data": {
      "text/plain": "Vegetarianism                                   0.200000\nVideo surveillance                              0.473684\nWar on Drugs                                    0.188406\nWarrantless wiretapping in the United States    0.260870\nWave power                                      0.217391\nWind energy                                     0.208333\nYucca Mountain nuclear waste repository         0.235294\nZoos                                            0.571429\nName: topic, dtype: float64"
     },
     "execution_count": 7,
     "metadata": {},
     "output_type": "execute_result"
    }
   ],
   "source": [
    "# Get percentage of mistakes per topic.\n",
    "task = \"novelty\"\n",
    "idxs = (outputs[task]['predictions'] != torch.tensor(outputs[task]['labels'])).nonzero()\n",
    "topics_mistakes = dev_data.df.iloc[list(idxs)][\"topic\"]\n",
    "\n",
    "topics_mistakes.value_counts() / dev_data.df[\"topic\"].value_counts()"
   ],
   "metadata": {
    "collapsed": false,
    "pycharm": {
     "name": "#%%\n"
    }
   }
  }
 ],
 "metadata": {
  "kernelspec": {
   "display_name": "Python 3 (ipykernel)",
   "language": "python",
   "name": "python3"
  },
  "language_info": {
   "codemirror_mode": {
    "name": "ipython",
    "version": 3
   },
   "file_extension": ".py",
   "mimetype": "text/x-python",
   "name": "python",
   "nbconvert_exporter": "python",
   "pygments_lexer": "ipython3",
   "version": "3.8.13"
  }
 },
 "nbformat": 4,
 "nbformat_minor": 5
}