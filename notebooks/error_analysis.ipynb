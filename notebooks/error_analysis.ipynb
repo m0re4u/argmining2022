{
 "cells": [
  {
   "cell_type": "code",
   "execution_count": 1,
   "id": "93183bc6-a325-4997-87af-912ee98e27d4",
   "metadata": {},
   "outputs": [
    {
     "name": "stderr",
     "output_type": "stream",
     "text": [
      "/data/volume_2/venvs/vargmining/lib/python3.9/site-packages/tqdm/auto.py:22: TqdmWarning: IProgress not found. Please update jupyter and ipywidgets. See https://ipywidgets.readthedocs.io/en/stable/user_install.html\n",
      "  from .autonotebook import tqdm as notebook_tqdm\n"
     ]
    }
   ],
   "source": [
    "from collections import defaultdict\n",
    "\n",
    "import matplotlib.pyplot as plt\n",
    "import numpy as np\n",
    "import torch\n",
    "import transformers\n",
    "from transformers import TrainingArguments, set_seed\n",
    "\n",
    "from data import SharedTaskData\n",
    "from models import MultitaskModel\n",
    "from train_mtl import Tokenize, compute_metrics, prepare_data\n",
    "from trainers import MultitaskTrainer, NLPDataCollator, TASK_NAMES"
   ]
  },
  {
   "cell_type": "code",
   "execution_count": 2,
   "id": "5c2c6fb0",
   "metadata": {
    "pycharm": {
     "name": "#%%\n"
    }
   },
   "outputs": [],
   "source": [
    "# Set variables.\n",
    "checkpoint: str = \"hftrainer_am_mtl_../SimCSE/result/novelty-sup-simcse-sup-roberta-large-mnli/_10_1e-05_0/checkpoint-846\"\n",
    "use_model: str = \"roberta-large-mnli\"\n",
    "seed: int = 0\n",
    "tensorflows: bool = False"
   ]
  },
  {
   "cell_type": "code",
   "execution_count": 3,
   "id": "a69aecc3",
   "metadata": {
    "pycharm": {
     "name": "#%%\n"
    }
   },
   "outputs": [
    {
     "name": "stderr",
     "output_type": "stream",
     "text": [
      "Parameter 'function'=<function map_label at 0x7fdb902df9d0> of the transform datasets.arrow_dataset.Dataset._map_single couldn't be hashed properly, a random hash was used instead. Make sure your transforms and parameters are serializable with pickle or dill for the dataset fingerprinting and caching to work. If you reuse this transform, the caching mechanism will consider it to be different from the previous calls and recompute everything. This warning is only showed once. Subsequent hashing failures won't be showed.\n"
     ]
    },
    {
     "name": "stdout",
     "output_type": "stream",
     "text": [
      "[None]\n",
      "[None]\n"
     ]
    },
    {
     "name": "stderr",
     "output_type": "stream",
     "text": [
      "100%|████████████████████████████████████████████████████████████████████████████████| 750/750 [00:00<00:00, 12566.48ex/s]\n",
      "Casting to class labels: 100%|█████████████████████████████████████████████████████████████| 1/1 [00:00<00:00, 112.03ba/s]\n",
      "Casting the dataset: 100%|█████████████████████████████████████████████████████████████████| 1/1 [00:00<00:00, 185.84ba/s]\n",
      "100%|████████████████████████████████████████████████████████████████████████████████| 520/520 [00:00<00:00, 12479.12ex/s]\n",
      "Casting the dataset: 100%|█████████████████████████████████████████████████████████████████| 1/1 [00:00<00:00, 207.66ba/s]\n",
      "100%|███████████████████████████████████████████████████████████████████████████████████████| 1/1 [00:00<00:00,  3.42ba/s]\n",
      "100%|███████████████████████████████████████████████████████████████████████████████████████| 1/1 [00:00<00:00,  4.04ba/s]\n",
      "100%|████████████████████████████████████████████████████████████████████████████████| 750/750 [00:00<00:00, 12333.82ex/s]\n",
      "Casting to class labels: 100%|█████████████████████████████████████████████████████████████| 1/1 [00:00<00:00, 105.95ba/s]\n",
      "Casting the dataset: 100%|█████████████████████████████████████████████████████████████████| 1/1 [00:00<00:00, 186.39ba/s]\n",
      "100%|████████████████████████████████████████████████████████████████████████████████| 520/520 [00:00<00:00, 12237.35ex/s]\n",
      "Casting the dataset: 100%|█████████████████████████████████████████████████████████████████| 1/1 [00:00<00:00, 179.46ba/s]\n",
      "100%|███████████████████████████████████████████████████████████████████████████████████████| 1/1 [00:00<00:00,  3.78ba/s]\n",
      "100%|███████████████████████████████████████████████████████████████████████████████████████| 1/1 [00:00<00:00,  4.22ba/s]\n",
      "Some weights of the model checkpoint at roberta-large-mnli were not used when initializing RobertaForSequenceClassification: ['roberta.pooler.dense.weight', 'roberta.pooler.dense.bias']\n",
      "- This IS expected if you are initializing RobertaForSequenceClassification from the checkpoint of a model trained on another task or with another architecture (e.g. initializing a BertForSequenceClassification model from a BertForPreTraining model).\n",
      "- This IS NOT expected if you are initializing RobertaForSequenceClassification from the checkpoint of a model that you expect to be exactly identical (initializing a BertForSequenceClassification model from a BertForSequenceClassification model).\n",
      "Some weights of RobertaForSequenceClassification were not initialized from the model checkpoint at roberta-large-mnli and are newly initialized because the shapes did not match:\n",
      "- classifier.out_proj.weight: found shape torch.Size([3, 1024]) in the checkpoint and torch.Size([2, 1024]) in the model instantiated\n",
      "- classifier.out_proj.bias: found shape torch.Size([3]) in the checkpoint and torch.Size([2]) in the model instantiated\n",
      "You should probably TRAIN this model on a down-stream task to be able to use it for predictions and inference.\n",
      "Some weights of the model checkpoint at roberta-large-mnli were not used when initializing RobertaForSequenceClassification: ['roberta.pooler.dense.weight', 'roberta.pooler.dense.bias']\n",
      "- This IS expected if you are initializing RobertaForSequenceClassification from the checkpoint of a model trained on another task or with another architecture (e.g. initializing a BertForSequenceClassification model from a BertForPreTraining model).\n",
      "- This IS NOT expected if you are initializing RobertaForSequenceClassification from the checkpoint of a model that you expect to be exactly identical (initializing a BertForSequenceClassification model from a BertForSequenceClassification model).\n",
      "Some weights of RobertaForSequenceClassification were not initialized from the model checkpoint at roberta-large-mnli and are newly initialized because the shapes did not match:\n",
      "- classifier.out_proj.weight: found shape torch.Size([3, 1024]) in the checkpoint and torch.Size([2, 1024]) in the model instantiated\n",
      "- classifier.out_proj.bias: found shape torch.Size([3]) in the checkpoint and torch.Size([2]) in the model instantiated\n",
      "You should probably TRAIN this model on a down-stream task to be able to use it for predictions and inference.\n"
     ]
    }
   ],
   "source": [
    "# Load dataset.\n",
    "set_seed(seed)\n",
    "tokenize = Tokenize(use_model, tensorflows, \"concatenation\", predict_only=False)\n",
    "torch.backends.cudnn.deterministic = True\n",
    "\n",
    "train_data = SharedTaskData(\"TaskA_train.csv\")\n",
    "dev_data = SharedTaskData(\"TaskA_test.csv\")\n",
    "\n",
    "tokenized_train_dataset_novelty, tokenized_dev_dataset_novelty = prepare_data(\n",
    "    use_model,\n",
    "    train_data,\n",
    "    dev_data,\n",
    "    \"novelty\",\n",
    "    tokenize.tokenize_function_nov\n",
    ")\n",
    "tokenized_train_dataset_validity, tokenized_dev_dataset_validity = prepare_data(\n",
    "    use_model,\n",
    "    train_data,\n",
    "    dev_data,\n",
    "    \"validity\",\n",
    "    tokenize.tokenize_function_val\n",
    ")\n",
    "\n",
    "if \"ArgumentRelation\" in use_model:\n",
    "    kwargs = {'pad_token_id': 1}\n",
    "else:\n",
    "    kwargs = {}\n",
    "\n",
    "# Load model.\n",
    "multitask_model = MultitaskModel.create(\n",
    "    model_name=use_model,\n",
    "    model_type_dict={\n",
    "        \"novelty\": transformers.AutoModelForSequenceClassification,\n",
    "        \"validity\": transformers.AutoModelForSequenceClassification,\n",
    "    },\n",
    "    model_config_dict={\n",
    "        \"novelty\": transformers.AutoConfig.from_pretrained(use_model, num_labels=2, **kwargs),\n",
    "        \"validity\": transformers.AutoConfig.from_pretrained(use_model, num_labels=2, **kwargs),\n",
    "    },\n",
    "    tensorflows=tensorflows\n",
    ")\n",
    "\n",
    "multitask_model.load_trainer_checkpoint(checkpoint)\n",
    "\n",
    "# Load trainer/evaluator.\n",
    "val_dataset = {\n",
    "    \"novelty\": tokenized_dev_dataset_novelty,\n",
    "    \"validity\": tokenized_dev_dataset_validity,\n",
    "}\n",
    "\n",
    "train_dataset = {\n",
    "    \"novelty\": tokenized_train_dataset_novelty,\n",
    "    \"validity\": tokenized_train_dataset_validity,\n",
    "}\n",
    "\n",
    "training_args = TrainingArguments(\n",
    "    f\"hftrainer_am_mtl_{use_model}_{seed}\",\n",
    "    label_names=['labels']\n",
    ")\n",
    "\n",
    "trainer = MultitaskTrainer(\n",
    "    model=multitask_model,\n",
    "    data_collator=NLPDataCollator(tokenizer=tokenize.tokenizer),\n",
    "    train_dataset=train_dataset,\n",
    "    eval_dataset=val_dataset,\n",
    "    tokenizer=tokenize.tokenizer,\n",
    "    compute_metrics=compute_metrics,\n",
    "    args=training_args,\n",
    ")"
   ]
  },
  {
   "cell_type": "code",
   "execution_count": 5,
   "id": "aca720e9",
   "metadata": {
    "pycharm": {
     "name": "#%%\n"
    }
   },
   "outputs": [
    {
     "name": "stderr",
     "output_type": "stream",
     "text": [
      "***** Running Prediction *****\n",
      "  Num examples = 520\n",
      "  Batch size = 16\n"
     ]
    },
    {
     "name": "stdout",
     "output_type": "stream",
     "text": [
      "Predicting novelty\n"
     ]
    },
    {
     "name": "stderr",
     "output_type": "stream",
     "text": [
      "/data/volume_2/venvs/vargmining/lib/python3.9/site-packages/torch/nn/parallel/_functions.py:68: UserWarning: Was asked to gather along dimension 0, but all input tensors were scalars; will instead unsqueeze and return a vector.\n",
      "  warnings.warn('Was asked to gather along dimension 0, but all '\n",
      "***** Running Prediction *****\n",
      "  Num examples = 520\n",
      "  Batch size = 16\n"
     ]
    },
    {
     "name": "stdout",
     "output_type": "stream",
     "text": [
      "Predicting validity\n"
     ]
    },
    {
     "name": "stderr",
     "output_type": "stream",
     "text": [
      "/data/volume_2/venvs/vargmining/lib/python3.9/site-packages/torch/nn/parallel/_functions.py:68: UserWarning: Was asked to gather along dimension 0, but all input tensors were scalars; will instead unsqueeze and return a vector.\n",
      "  warnings.warn('Was asked to gather along dimension 0, but all '\n"
     ]
    },
    {
     "name": "stdout",
     "output_type": "stream",
     "text": [
      "[0 1 0 0 1 0 1 1 1 0 0 1 1 1 1 0 0 0 0 0 0 0 0 0 0 1 0 0 0 0 1 1 0 0 1 0 0\n",
      " 0 1 0 0 0 0 1 0 0 1 0 0 0 0 1 0 0 0 1 1 0 0 0 0 0 0 0 0 0 0 0 0 0 0 0 0 0\n",
      " 0 0 0 1 0 0 0 0 0 0 0 0 0 0 0 0 0 0 0 0 0 0 0 0 0 0 1 0 0 0 0 0 1 0 0 0 0\n",
      " 0 0 0 0 1 1 0 0 0 0 0 1 0 1 0 0 0 0 0 0 0 0 1 0 0 0 0 0 0 0 0 0 0 0 0 0 0\n",
      " 0 0 0 0 0 1 0 1 0 0 0 0 0 0 0 0 0 0 1 0 1 0 0 0 0 0 0 1 1 0 0 0 0 0 0 0 0\n",
      " 0 0 0 0 0 0 0 0 1 1 1 1 1 1 0 1 0 0 0 1 0 0 0 1 1 0 0 0 0 0 1 0 1 0 0 0 0\n",
      " 0 1 0 0 0 0 1 0 0 0 0 1 0 0 0 0 0 0 0 0 0 0 0 0 0 0 0 0 0 0 1 0 0 0 0 1 0\n",
      " 0 0 0 0 0 0 0 0 0 0 0 0 0 0 0 0 0 0 1 0 0 0 0 0 0 0 0 0 0 0 1 0 0 1 0 0 0\n",
      " 0 0 0 0 0 0 1 1 1 1 0 1 0 0 0 0 0 0 0 0 0 0 1 0 1 0 0 0 0 0 0 0 0 0 0 0 0\n",
      " 0 0 0 0 0 0 0 0 0 0 0 0 1 0 0 1 1 0 0 0 0 0 0 1 1 1 0 1 0 1 1 0 0 0 1 1 1\n",
      " 1 0 1 0 1 0 0 0 0 0 0 0 0 0 0 0 0 0 0 0 0 0 0 0 0 0 1 0 0 0 0 0 0 0 0 0 0\n",
      " 0 0 0 0 1 1 1 1 0 0 1 0 1 1 0 0 0 0 0 0 0 0 0 1 0 0 0 1 0 0 0 0 0 1 0 0 0\n",
      " 0 0 0 1 0 1 0 0 0 1 0 0 0 1 0 1 1 1 1 0 1 1 0 1 0 1 0 0 0 0 0 0 0 0 0 0 0\n",
      " 1 1 0 0 0 0 1 0 1 0 0 1 0 1 0 0 0 0 1 1 1 0 1 1 0 0 0 0 0 1 0 0 0 0 0 0 0\n",
      " 0 0]\n"
     ]
    }
   ],
   "source": [
    "# Get predictions on validation set.\n",
    "outputs = trainer.predict(val_dataset)\n",
    "# for task in TASK_NAMES:\n",
    "    # print(f\"{task}: Amount of mistakes: {torch.sum(outputs[task]['predictions'] != torch.tensor(outputs[task]['labels']))}\")"
   ]
  },
  {
   "cell_type": "code",
   "execution_count": 34,
   "id": "07813ad2",
   "metadata": {},
   "outputs": [],
   "source": [
    "from sklearn.metrics import classification_report, confusion_matrix"
   ]
  },
  {
   "cell_type": "code",
   "execution_count": 67,
   "id": "7bb60c35",
   "metadata": {},
   "outputs": [
    {
     "name": "stdout",
     "output_type": "stream",
     "text": [
      "dict_keys(['novelty', 'validity'])\n",
      "\n",
      "[0 1 0 0 1 0 1 1 1 0 0 1 1 1 1 0 0 0 0 0 0 0 0 0 0 1 0 0 0 0 1 1 0 0 1 0 0\n",
      " 0 1 0 0 0 0 1 0 0 1 0 0 0 0 1 0 0 0 1 1 0 0 0 0 0 0 0 0 0 0 0 0 0 0 0 0 0\n",
      " 0 0 0 1 0 0 0 0 0 0 0 0 0 0 0 0 0 0 0 0 0 0 0 0 0 0 1 0 0 0 0 0 1 0 0 0 0\n",
      " 0 0 0 0 1 1 0 0 0 0 0 1 0 1 0 0 0 0 0 0 0 0 1 0 0 0 0 0 0 0 0 0 0 0 0 0 0\n",
      " 0 0 0 0 0 1 0 1 0 0 0 0 0 0 0 0 0 0 1 0 1 0 0 0 0 0 0 1 1 0 0 0 0 0 0 0 0\n",
      " 0 0 0 0 0 0 0 0 1 1 1 1 1 1 0 1 0 0 0 1 0 0 0 1 1 0 0 0 0 0 1 0 1 0 0 0 0\n",
      " 0 1 0 0 0 0 1 0 0 0 0 1 0 0 0 0 0 0 0 0 0 0 0 0 0 0 0 0 0 0 1 0 0 0 0 1 0\n",
      " 0 0 0 0 0 0 0 0 0 0 0 0 0 0 0 0 0 0 1 0 0 0 0 0 0 0 0 0 0 0 1 0 0 1 0 0 0\n",
      " 0 0 0 0 0 0 1 1 1 1 0 1 0 0 0 0 0 0 0 0 0 0 1 0 1 0 0 0 0 0 0 0 0 0 0 0 0\n",
      " 0 0 0 0 0 0 0 0 0 0 0 0 1 0 0 1 1 0 0 0 0 0 0 1 1 1 0 1 0 1 1 0 0 0 1 1 1\n",
      " 1 0 1 0 1 0 0 0 0 0 0 0 0 0 0 0 0 0 0 0 0 0 0 0 0 0 1 0 0 0 0 0 0 0 0 0 0\n",
      " 0 0 0 0 1 1 1 1 0 0 1 0 1 1 0 0 0 0 0 0 0 0 0 1 0 0 0 1 0 0 0 0 0 1 0 0 0\n",
      " 0 0 0 1 0 1 0 0 0 1 0 0 0 1 0 1 1 1 1 0 1 1 0 1 0 1 0 0 0 0 0 0 0 0 0 0 0\n",
      " 1 1 0 0 0 0 1 0 1 0 0 1 0 1 0 0 0 0 1 1 1 0 1 1 0 0 0 0 0 1 0 0 0 0 0 0 0\n",
      " 0 0]\n",
      "VALIDITY\n",
      "              precision    recall  f1-score   support\n",
      "\n",
      "           0      0.364     0.806     0.502        93\n",
      "           1      0.943     0.693     0.799       427\n",
      "\n",
      "    accuracy                          0.713       520\n",
      "   macro avg      0.653     0.750     0.650       520\n",
      "weighted avg      0.839     0.713     0.746       520\n",
      "\n",
      "[[ 75 131]\n",
      " [ 18 296]]\n",
      "NOVELTY\n",
      "              precision    recall  f1-score   support\n",
      "\n",
      "           0      0.901     0.646     0.753       410\n",
      "           1      0.358     0.736     0.482       110\n",
      "\n",
      "    accuracy                          0.665       520\n",
      "   macro avg      0.630     0.691     0.617       520\n",
      "weighted avg      0.787     0.665     0.696       520\n",
      "\n",
      "[[265  29]\n",
      " [145  81]]\n"
     ]
    }
   ],
   "source": [
    "print(outputs.keys())\n",
    "print()\n",
    "print(np.argmax(outputs['novelty'].predictions, axis=1))\n",
    "\n",
    "model_output_val = np.argmax(outputs['validity'].predictions, axis=1)\n",
    "model_output_nov = np.argmax(outputs['novelty'].predictions, axis=1)\n",
    "print(\"VALIDITY\")\n",
    "val_true = dev_data.df.Validity.apply(lambda x: 1 if x == 1 else 0)\n",
    "print(classification_report(model_output_val, val_true, digits=3))\n",
    "print(confusion_matrix(model_output_val, val_true).T)\n",
    "\n",
    "print(\"NOVELTY\")\n",
    "nov_true = dev_data.df.Novelty.apply(lambda x: 1 if x == 1 else 0)\n",
    "print(classification_report(model_output_nov, nov_true, digits=3))\n",
    "print(confusion_matrix(model_output_nov, nov_true).T)"
   ]
  },
  {
   "cell_type": "code",
   "execution_count": 39,
   "id": "3a05cc65",
   "metadata": {},
   "outputs": [
    {
     "name": "stdout",
     "output_type": "stream",
     "text": [
      "VALIDITY\n",
      "              precision    recall  f1-score   support\n",
      "\n",
      "           0      0.583     0.670     0.623       179\n",
      "           1      0.812     0.748     0.779       341\n",
      "\n",
      "    accuracy                          0.721       520\n",
      "   macro avg      0.697     0.709     0.701       520\n",
      "weighted avg      0.733     0.721     0.725       520\n",
      "\n",
      "[[120  86]\n",
      " [ 59 255]]\n",
      "NOVELTY\n",
      "              precision    recall  f1-score   support\n",
      "\n",
      "           0      0.816     0.570     0.671       421\n",
      "           1      0.199     0.455     0.277        99\n",
      "\n",
      "    accuracy                          0.548       520\n",
      "   macro avg      0.508     0.512     0.474       520\n",
      "weighted avg      0.699     0.548     0.596       520\n",
      "\n",
      "[[157  49]\n",
      " [264  50]]\n"
     ]
    }
   ],
   "source": [
    "import json\n",
    "with open(\"predictions/dump_prompt_5_eval=True_results.json\") as f:\n",
    "    d = json.load(f)\n",
    "\n",
    "pred_val_gpt = [1 if x['pred_val'] == 'valid' else 0 for x in d ]\n",
    "pred_nov_gpt = [1 if x['pred_nov'] == 'novel' else 0 for x in d ]\n",
    "print(\"VALIDITY\")\n",
    "print(classification_report(pred_val_gpt, val_true, digits=3))\n",
    "print(confusion_matrix(pred_val_gpt, val_true).T)\n",
    "print(\"NOVELTY\")\n",
    "print(classification_report(pred_nov_gpt, nov_true, digits=3))\n",
    "print(confusion_matrix(pred_nov_gpt, val_true).T)"
   ]
  },
  {
   "cell_type": "code",
   "execution_count": 85,
   "id": "e0d54ce5",
   "metadata": {
    "pycharm": {
     "name": "#%%\n"
    }
   },
   "outputs": [
    {
     "data": {
      "image/png": "[encoded data removed]",
      "text/plain": [
       "<Figure size 432x288 with 1 Axes>"
      ]
     },
     "metadata": {},
     "output_type": "display_data"
    },
    {
     "data": {
      "image/png": "[encoded data removed]",
      "text/plain": [
       "<Figure size 432x288 with 1 Axes>"
      ]
     },
     "metadata": {},
     "output_type": "display_data"
    },
    {
     "data": {
      "image/png": "[encoded data removed]",
      "text/plain": [
       "<Figure size 432x288 with 1 Axes>"
      ]
     },
     "metadata": {},
     "output_type": "display_data"
    },
    {
     "data": {
      "image/png": "[encoded data removed]",
      "text/plain": [
       "<Figure size 432x288 with 1 Axes>"
      ]
     },
     "metadata": {},
     "output_type": "display_data"
    },
    {
     "data": {
      "image/png": "[encoded data removed]",
      "text/plain": [
       "<Figure size 432x288 with 1 Axes>"
      ]
     },
     "metadata": {},
     "output_type": "display_data"
    }
   ],
   "source": [
    "# Get (mis-)classification of predictions based on confidence of annotation.\n",
    "%matplotlib inline\n",
    "\n",
    "# Retrieve confidences of the mistakes and correct classifications.\n",
    "def plot_confidences(predictions, labels, task, approach):\n",
    "    mistakes_idxs = (np.array(predictions) != np.array(labels)).nonzero()\n",
    "    confs_mistakes = dev_data.df.iloc[mistakes_idxs][f\"{task.capitalize()}-Confidence\"]\n",
    "    correct_idxs = (np.array(predictions) == np.array(labels)).nonzero()\n",
    "    confs_correct = dev_data.df.iloc[correct_idxs][f\"{task.capitalize()}-Confidence\"]\n",
    "\n",
    "    # Normalize over the total count of mistakes and corrects respectively.\n",
    "    confs_mistakes = {k: v / confs_mistakes.count() for k, v in confs_mistakes.value_counts().to_dict().items()}\n",
    "    confs_correct = {k: v / confs_correct.count() for k, v in confs_correct.value_counts().to_dict().items()}\n",
    "\n",
    "    # Uncomment if background is black so text of plot is white.\n",
    "    params = {\"ytick.color\" : \"black\",\n",
    "              \"xtick.color\" : \"black\",\n",
    "              \"axes.labelcolor\" : \"black\",\n",
    "              \"figure.facecolor\": \"w\",\n",
    "              \"axes.edgecolor\" : \"black\"}\n",
    "    plt.rcParams.update(params)\n",
    "    plt.title(f\"{task.capitalize()} - {approach}\", color='black')\n",
    "\n",
    "    np.random.seed(0)\n",
    "    plt.figure()\n",
    "    plt.xticks(range(len(list(confs_correct.keys()))), list(confs_correct.keys()))\n",
    "    plt.xlabel('Confidence')\n",
    "    plt.ylabel('Relative Frequency')\n",
    "    plt.title(f\"{task.capitalize()} - {approach}\", color='black')\n",
    "\n",
    "    width = 0.3\n",
    "    plt.bar(range(len(confs_correct.keys())), [confs_mistakes.get(k, 0) for k in confs_correct.keys()], label=\"mistakes\", width=width)\n",
    "    plt.bar(np.arange(len(confs_correct)) + width, confs_correct.values(), label=\"correct\", width=width)\n",
    "    plt.legend()\n",
    "    plt.savefig(f\"confidence_{approach}_{task}.png\")\n",
    "\n",
    "\n",
    "plot_confidences(pred_val_gpt, val_true, \"validity\", \"CLTeamL-1\")\n",
    "plot_confidences(pred_nov_gpt, nov_true, \"novelty\", \"CLTeamL-1\")\n",
    "\n",
    "plot_confidences(model_output_val, val_true, \"validity\", \"CLTeamL-2\")\n",
    "plot_confidences(model_output_nov, nov_true, \"novelty\", \"CLTeamL-2\")\n"
   ]
  },
  {
   "cell_type": "code",
   "execution_count": 87,
   "id": "50ad1e12",
   "metadata": {
    "pycharm": {
     "name": "#%%\n"
    }
   },
   "outputs": [
    {
     "name": "stdout",
     "output_type": "stream",
     "text": [
      "CLTeamL-1\n",
      "{'non-valid;non-novel': 0.31724137931034485, 'non-valid;novel': 0.27586206896551724, 'valid;non-novel': 0.2206896551724138, 'valid;novel': 0.18620689655172415}\n",
      "CLTeamL-1\n",
      "{'valid;novel': 0.4553191489361702, 'non-valid;non-novel': 0.1148936170212766, 'valid;non-novel': 0.1148936170212766, 'non-valid;novel': 0.3148936170212766}\n",
      "CLTeamL-2\n",
      "{'non-valid;novel': 0.4563758389261745, 'valid;novel': 0.11409395973154363, 'non-valid;non-novel': 0.4228187919463087, 'valid;non-novel': 0.006711409395973154}\n",
      "CLTeamL-2\n",
      "{'valid;novel': 0.45977011494252873, 'non-valid;non-novel': 0.09770114942528736, 'valid;non-novel': 0.06896551724137931, 'non-valid;novel': 0.3735632183908046}\n"
     ]
    }
   ],
   "source": [
    "# Get distribution of mistakes over combined labels.\n",
    "\n",
    "def get_mistake_dist(predictions, labels, task, approach):\n",
    "    idxs = (np.array(predictions) != np.array(labels)).nonzero()\n",
    "    val_mistakes = dev_data.df.iloc[idxs][\"Validity\"]\n",
    "    nov_mistakes = dev_data.df.iloc[idxs][\"Novelty\"]\n",
    "\n",
    "    counts = defaultdict(int)\n",
    "    for val_mistake, nov_mistake in zip(val_mistakes, nov_mistakes):\n",
    "        if val_mistake == -1 and nov_mistake == -1:\n",
    "            counts[\"non-valid;non-novel\"] += 1\n",
    "        elif val_mistake == 1 and nov_mistake == -1:\n",
    "            counts[\"valid;non-novel\"] += 1\n",
    "        elif val_mistake == -1 and nov_mistake == 1:\n",
    "            counts[\"non-valid;novel\"] += 1\n",
    "        elif val_mistake == 1 and nov_mistake == 1:\n",
    "            counts[\"valid;novel\"] += 1\n",
    "\n",
    "    counts = {k: v / len(val_mistakes) for k, v in counts.items()}\n",
    "    print(approach)\n",
    "    print(counts)\n",
    "\n",
    "\n",
    "get_mistake_dist(pred_val_gpt, val_true, \"validity\", \"CLTeamL-1\")\n",
    "get_mistake_dist(pred_nov_gpt, nov_true, \"novelty\", \"CLTeamL-1\")\n",
    "\n",
    "get_mistake_dist(model_output_val, val_true, \"validity\", \"CLTeamL-2\")\n",
    "get_mistake_dist(model_output_nov, nov_true, \"novelty\", \"CLTeamL-2\")"
   ]
  },
  {
   "cell_type": "code",
   "execution_count": 94,
   "id": "6da2073d",
   "metadata": {
    "pycharm": {
     "name": "#%%\n"
    }
   },
   "outputs": [
    {
     "name": "stdout",
     "output_type": "stream",
     "text": [
      "Score is percentage of mistakes per topic.\n",
      "== CLTeamL-1 - validity ==\n",
      "Veal                                            0.216216\n",
      "Vegetarianism                                   0.080000\n",
      "Video games                                          NaN\n",
      "Video surveillance                              0.250000\n",
      "War on Drugs                                    0.264151\n",
      "Warrantless wiretapping in the United States    0.148148\n",
      "Was the War in Iraq worth it?                   0.448276\n",
      "Water privatization                             0.244898\n",
      "Wave power                                      0.125000\n",
      "Wind energy                                     0.120000\n",
      "Withdrawing from Iraq                           0.380597\n",
      "Year-round school                               0.396552\n",
      "Yucca Mountain nuclear waste repository         0.375000\n",
      "Zero tolerance law                              0.210526\n",
      "Zoos                                                 NaN\n",
      "Name: topic, dtype: float64\n",
      "== CLTeamL-1 - novelty ==\n",
      "Veal                                            0.351351\n",
      "Vegetarianism                                   0.600000\n",
      "Video games                                          NaN\n",
      "Video surveillance                              0.250000\n",
      "War on Drugs                                    0.396226\n",
      "Warrantless wiretapping in the United States    0.592593\n",
      "Was the War in Iraq worth it?                   0.379310\n",
      "Water privatization                             0.408163\n",
      "Wave power                                      0.541667\n",
      "Wind energy                                     0.360000\n",
      "Withdrawing from Iraq                           0.492537\n",
      "Year-round school                               0.517241\n",
      "Yucca Mountain nuclear waste repository         0.625000\n",
      "Zero tolerance law                              0.526316\n",
      "Zoos                                            0.125000\n",
      "Name: topic, dtype: float64\n",
      "== CLTeamL-2 - validity ==\n",
      "Veal                                            0.351351\n",
      "Vegetarianism                                   0.400000\n",
      "Video games                                          NaN\n",
      "Video surveillance                              0.200000\n",
      "War on Drugs                                    0.245283\n",
      "Warrantless wiretapping in the United States    0.296296\n",
      "Was the War in Iraq worth it?                   0.344828\n",
      "Water privatization                             0.183673\n",
      "Wave power                                      0.250000\n",
      "Wind energy                                     0.200000\n",
      "Withdrawing from Iraq                           0.320896\n",
      "Year-round school                               0.293103\n",
      "Yucca Mountain nuclear waste repository         0.375000\n",
      "Zero tolerance law                              0.421053\n",
      "Zoos                                                 NaN\n",
      "Name: topic, dtype: float64\n",
      "== CLTeamL-2 - novelty ==\n",
      "Veal                                            0.324324\n",
      "Vegetarianism                                   0.440000\n",
      "Video games                                          NaN\n",
      "Video surveillance                              0.150000\n",
      "War on Drugs                                    0.301887\n",
      "Warrantless wiretapping in the United States    0.444444\n",
      "Was the War in Iraq worth it?                   0.413793\n",
      "Water privatization                             0.285714\n",
      "Wave power                                      0.250000\n",
      "Wind energy                                     0.080000\n",
      "Withdrawing from Iraq                           0.447761\n",
      "Year-round school                               0.293103\n",
      "Yucca Mountain nuclear waste repository         0.250000\n",
      "Zero tolerance law                              0.315789\n",
      "Zoos                                            0.125000\n",
      "Name: topic, dtype: float64\n"
     ]
    }
   ],
   "source": [
    "# Get percentage of mistakes per topic.\n",
    "def get_pct_mistakes(predictions, labels, task, approach):\n",
    "    idxs = (np.array(predictions) != np.array(labels)).nonzero()\n",
    "    topics_mistakes = dev_data.df.iloc[idxs][\"topic\"]\n",
    "\n",
    "    topic_results = topics_mistakes.value_counts() / dev_data.df[\"topic\"].value_counts()\n",
    "    print(f\"== {approach} - {task} ==\")\n",
    "    print(topic_results)\n",
    "\n",
    "print(\"Score is percentage of mistakes per topic.\")\n",
    "get_pct_mistakes(pred_val_gpt, val_true, 'validity', \"CLTeamL-1\")\n",
    "get_pct_mistakes(pred_nov_gpt, nov_true, 'novelty', \"CLTeamL-1\")\n",
    "\n",
    "get_pct_mistakes(model_output_val, val_true, 'validity', \"CLTeamL-2\")\n",
    "get_pct_mistakes(model_output_nov, nov_true, 'novelty', \"CLTeamL-2\")"
   ]
  }
 ],
 "metadata": {
  "kernelspec": {
   "display_name": "Python 3 (ipykernel)",
   "language": "python",
   "name": "python3"
  },
  "language_info": {
   "codemirror_mode": {
    "name": "ipython",
    "version": 3
   },
   "file_extension": ".py",
   "mimetype": "text/x-python",
   "name": "python",
   "nbconvert_exporter": "python",
   "pygments_lexer": "ipython3",
   "version": "3.9.13"
  },
  "vscode": {
   "interpreter": {
    "hash": "36cf16204b8548560b1c020c4e8fb5b57f0e4c58016f52f2d4be01e192833930"
   }
  }
 },
 "nbformat": 4,
 "nbformat_minor": 5
}
