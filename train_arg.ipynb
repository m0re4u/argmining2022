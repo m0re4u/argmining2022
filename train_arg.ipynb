{
 "cells": [
  {
   "cell_type": "code",
   "execution_count": 43,
   "metadata": {},
   "outputs": [],
   "source": [
    "import seaborn as sns\n",
    "import torch\n",
    "from sklearn.metrics import accuracy_score, f1_score, classification_report\n",
    "from transformers import (AutoModelForSequenceClassification, AutoTokenizer,\n",
    "                          DataCollatorWithPadding, Trainer, TrainingArguments)\n",
    "import numpy as np\n",
    "\n",
    "from data import SharedTaskData\n"
   ]
  },
  {
   "cell_type": "markdown",
   "metadata": {},
   "source": [
    "# Prepare dataset"
   ]
  },
  {
   "cell_type": "code",
   "execution_count": 44,
   "metadata": {},
   "outputs": [
    {
     "name": "stderr",
     "output_type": "stream",
     "text": [
      "100%|█████████████████████████████████████████████████████████████████████████████████| 750/750 [00:00<00:00, 18181.93ex/s]\n",
      "Casting to class labels: 100%|██████████████████████████████████████████████████████████████| 1/1 [00:00<00:00, 142.00ba/s]\n",
      "Casting the dataset: 100%|██████████████████████████████████████████████████████████████████| 1/1 [00:00<00:00, 178.48ba/s]\n",
      "100%|█████████████████████████████████████████████████████████████████████████████████| 750/750 [00:00<00:00, 21047.43ex/s]\n",
      "Casting to class labels: 100%|██████████████████████████████████████████████████████████████| 1/1 [00:00<00:00, 172.57ba/s]\n",
      "Casting the dataset: 100%|██████████████████████████████████████████████████████████████████| 1/1 [00:00<00:00, 280.39ba/s]\n",
      "100%|█████████████████████████████████████████████████████████████████████████████████| 202/202 [00:00<00:00, 20768.97ex/s]\n",
      "Casting the dataset: 100%|██████████████████████████████████████████████████████████████████| 1/1 [00:00<00:00, 531.19ba/s]\n",
      "100%|█████████████████████████████████████████████████████████████████████████████████| 202/202 [00:00<00:00, 19365.26ex/s]\n",
      "Casting the dataset: 100%|██████████████████████████████████████████████████████████████████| 1/1 [00:00<00:00, 481.77ba/s]\n"
     ]
    }
   ],
   "source": [
    "train_data = SharedTaskData(\"TaskA_train.csv\")\n",
    "dev_data = SharedTaskData(\"TaskA_dev.csv\")\n",
    "\n",
    "train_dataset_novelty = train_data.convert_to_hf_dataset(\"novelty\")\n",
    "train_dataset_validity = train_data.convert_to_hf_dataset(\"validity\")\n",
    "# Use feature mapping from training dataset to ensure features are mapped correctly\n",
    "dev_dataset_novelty = dev_data.convert_to_hf_dataset(\"novelty\", features=train_dataset_novelty.features)\n",
    "dev_dataset_validity = dev_data.convert_to_hf_dataset(\"validity\", features=train_dataset_validity.features)\n",
    "\n",
    "# Make sure internal label mapping is identical across datasets\n",
    "assert train_dataset_validity.features['validity_str']._str2int == dev_dataset_validity.features['validity_str']._str2int\n",
    "assert train_dataset_novelty.features['novelty_str']._str2int == dev_dataset_novelty.features['novelty_str']._str2int"
   ]
  },
  {
   "cell_type": "code",
   "execution_count": 45,
   "metadata": {},
   "outputs": [
    {
     "name": "stdout",
     "output_type": "stream",
     "text": [
      "{'deafisible': 0, 'not-valid': 1, 'valid': 2}\n"
     ]
    },
    {
     "data": {
      "text/plain": [
       "<seaborn.axisgrid.FacetGrid at 0x7f8f647bed90>"
      ]
     },
     "execution_count": 45,
     "metadata": {},
     "output_type": "execute_result"
    },
    {
     "data": {
      "image/png": "[encoded data removed]",
      "text/plain": [
       "<Figure size 500x500 with 1 Axes>"
      ]
     },
     "metadata": {},
     "output_type": "display_data"
    }
   ],
   "source": [
    "# investigate validity labels\n",
    "print(train_dataset_validity.features['validity_str']._str2int)\n",
    "sns.displot(train_dataset_validity['validity_str'])"
   ]
  },
  {
   "cell_type": "code",
   "execution_count": 46,
   "metadata": {},
   "outputs": [
    {
     "name": "stdout",
     "output_type": "stream",
     "text": [
      "{'borderline novel': 0, 'not-novel': 1, 'novel': 2}\n"
     ]
    },
    {
     "data": {
      "text/plain": [
       "<seaborn.axisgrid.FacetGrid at 0x7f8f65353a00>"
      ]
     },
     "execution_count": 46,
     "metadata": {},
     "output_type": "execute_result"
    },
    {
     "data": {
      "image/png": "[encoded data removed]",
      "text/plain": [
       "<Figure size 500x500 with 1 Axes>"
      ]
     },
     "metadata": {},
     "output_type": "display_data"
    }
   ],
   "source": [
    "# .. and novelty labels\n",
    "print(train_dataset_novelty.features['novelty_str']._str2int)\n",
    "sns.displot(train_dataset_novelty['novelty_str'])"
   ]
  },
  {
   "cell_type": "code",
   "execution_count": 47,
   "metadata": {},
   "outputs": [
    {
     "name": "stdout",
     "output_type": "stream",
     "text": [
      "Novelty\n",
      "              precision    recall  f1-score   support\n",
      "\n",
      "           0       0.02      1.00      0.04         2\n",
      "           1       0.57      0.49      0.53       118\n",
      "           2       0.00      0.00      0.00        82\n",
      "\n",
      "    accuracy                           0.30       202\n",
      "   macro avg       0.20      0.50      0.19       202\n",
      "weighted avg       0.34      0.30      0.31       202\n",
      "\n",
      "Validity\n",
      "              precision    recall  f1-score   support\n",
      "\n",
      "           0       0.03      1.00      0.06         3\n",
      "           1       0.36      0.50      0.42        74\n",
      "           2       0.00      0.00      0.00       125\n",
      "\n",
      "    accuracy                           0.20       202\n",
      "   macro avg       0.13      0.50      0.16       202\n",
      "weighted avg       0.13      0.20      0.15       202\n",
      "\n",
      "Novelty\n",
      "              precision    recall  f1-score   support\n",
      "\n",
      "           0       0.00      0.00      0.00         2\n",
      "           1       0.58      1.00      0.74       118\n",
      "           2       0.00      0.00      0.00        82\n",
      "\n",
      "    accuracy                           0.58       202\n",
      "   macro avg       0.19      0.33      0.25       202\n",
      "weighted avg       0.34      0.58      0.43       202\n",
      "\n",
      "Validity\n",
      "              precision    recall  f1-score   support\n",
      "\n",
      "           0       0.00      0.00      0.00         3\n",
      "           1       0.00      0.00      0.00        74\n",
      "           2       0.62      1.00      0.76       125\n",
      "\n",
      "    accuracy                           0.62       202\n",
      "   macro avg       0.21      0.33      0.25       202\n",
      "weighted avg       0.38      0.62      0.47       202\n",
      "\n"
     ]
    },
    {
     "name": "stderr",
     "output_type": "stream",
     "text": [
      "/home/m0re/projects/phd/venvs/vargmining/lib/python3.9/site-packages/sklearn/metrics/_classification.py:1327: UndefinedMetricWarning: Precision and F-score are ill-defined and being set to 0.0 in labels with no predicted samples. Use `zero_division` parameter to control this behavior.\n",
      "  _warn_prf(average, modifier, msg_start, len(result))\n",
      "/home/m0re/projects/phd/venvs/vargmining/lib/python3.9/site-packages/sklearn/metrics/_classification.py:1327: UndefinedMetricWarning: Precision and F-score are ill-defined and being set to 0.0 in labels with no predicted samples. Use `zero_division` parameter to control this behavior.\n",
      "  _warn_prf(average, modifier, msg_start, len(result))\n",
      "/home/m0re/projects/phd/venvs/vargmining/lib/python3.9/site-packages/sklearn/metrics/_classification.py:1327: UndefinedMetricWarning: Precision and F-score are ill-defined and being set to 0.0 in labels with no predicted samples. Use `zero_division` parameter to control this behavior.\n",
      "  _warn_prf(average, modifier, msg_start, len(result))\n",
      "/home/m0re/projects/phd/venvs/vargmining/lib/python3.9/site-packages/sklearn/metrics/_classification.py:1327: UndefinedMetricWarning: Precision and F-score are ill-defined and being set to 0.0 in labels with no predicted samples. Use `zero_division` parameter to control this behavior.\n",
      "  _warn_prf(average, modifier, msg_start, len(result))\n",
      "/home/m0re/projects/phd/venvs/vargmining/lib/python3.9/site-packages/sklearn/metrics/_classification.py:1327: UndefinedMetricWarning: Precision and F-score are ill-defined and being set to 0.0 in labels with no predicted samples. Use `zero_division` parameter to control this behavior.\n",
      "  _warn_prf(average, modifier, msg_start, len(result))\n",
      "/home/m0re/projects/phd/venvs/vargmining/lib/python3.9/site-packages/sklearn/metrics/_classification.py:1327: UndefinedMetricWarning: Precision and F-score are ill-defined and being set to 0.0 in labels with no predicted samples. Use `zero_division` parameter to control this behavior.\n",
      "  _warn_prf(average, modifier, msg_start, len(result))\n",
      "/home/m0re/projects/phd/venvs/vargmining/lib/python3.9/site-packages/sklearn/metrics/_classification.py:1327: UndefinedMetricWarning: Precision and F-score are ill-defined and being set to 0.0 in labels with no predicted samples. Use `zero_division` parameter to control this behavior.\n",
      "  _warn_prf(average, modifier, msg_start, len(result))\n",
      "/home/m0re/projects/phd/venvs/vargmining/lib/python3.9/site-packages/sklearn/metrics/_classification.py:1327: UndefinedMetricWarning: Precision and F-score are ill-defined and being set to 0.0 in labels with no predicted samples. Use `zero_division` parameter to control this behavior.\n",
      "  _warn_prf(average, modifier, msg_start, len(result))\n",
      "/home/m0re/projects/phd/venvs/vargmining/lib/python3.9/site-packages/sklearn/metrics/_classification.py:1327: UndefinedMetricWarning: Precision and F-score are ill-defined and being set to 0.0 in labels with no predicted samples. Use `zero_division` parameter to control this behavior.\n",
      "  _warn_prf(average, modifier, msg_start, len(result))\n",
      "/home/m0re/projects/phd/venvs/vargmining/lib/python3.9/site-packages/sklearn/metrics/_classification.py:1327: UndefinedMetricWarning: Precision and F-score are ill-defined and being set to 0.0 in labels with no predicted samples. Use `zero_division` parameter to control this behavior.\n",
      "  _warn_prf(average, modifier, msg_start, len(result))\n",
      "/home/m0re/projects/phd/venvs/vargmining/lib/python3.9/site-packages/sklearn/metrics/_classification.py:1327: UndefinedMetricWarning: Precision and F-score are ill-defined and being set to 0.0 in labels with no predicted samples. Use `zero_division` parameter to control this behavior.\n",
      "  _warn_prf(average, modifier, msg_start, len(result))\n",
      "/home/m0re/projects/phd/venvs/vargmining/lib/python3.9/site-packages/sklearn/metrics/_classification.py:1327: UndefinedMetricWarning: Precision and F-score are ill-defined and being set to 0.0 in labels with no predicted samples. Use `zero_division` parameter to control this behavior.\n",
      "  _warn_prf(average, modifier, msg_start, len(result))\n"
     ]
    }
   ],
   "source": [
    "# Random Baseline novelty\n",
    "print(\"Novelty\")\n",
    "y_true = np.array(dev_dataset_novelty['novelty_str'])\n",
    "y_pred = np.random.randint(low=0, high=2, size=len(dev_dataset_novelty))\n",
    "print(classification_report(y_true, y_pred))\n",
    "\n",
    "# Random Baseline validity\n",
    "print(\"Validity\")\n",
    "y_true = np.array(dev_dataset_validity['validity_str'])\n",
    "y_pred = np.random.randint(low=0, high=2, size=len(dev_dataset_validity))\n",
    "print(classification_report(y_true, y_pred))\n",
    "\n",
    "# Majority Baseline novelty\n",
    "print(\"Novelty\")\n",
    "y_true = np.array(dev_dataset_novelty['novelty_str'])\n",
    "y_pred = np.array([train_dataset_novelty.features['novelty_str']._str2int['not-novel']] * len(dev_dataset_novelty))\n",
    "print(classification_report(y_true, y_pred))\n",
    "\n",
    "# Majority Baseline validity\n",
    "print(\"Validity\")\n",
    "y_true = np.array(dev_dataset_validity['validity_str'])\n",
    "y_pred = np.array([train_dataset_validity.features['validity_str']._str2int['valid']] * len(dev_dataset_validity))\n",
    "print(classification_report(y_true, y_pred))"
   ]
  },
  {
   "cell_type": "markdown",
   "metadata": {},
   "source": [
    "# Data imbalance\n",
    "We suffer from some data imbalance so we may need to oversample."
   ]
  },
  {
   "cell_type": "code",
   "execution_count": null,
   "metadata": {},
   "outputs": [],
   "source": [
    "# We focus on predicting Validity label for now\n",
    "checkpoint = \"bert-base-uncased\"\n",
    "tokenizer = AutoTokenizer.from_pretrained(checkpoint)\n",
    "model = AutoModelForSequenceClassification.from_pretrained(\n",
    "    checkpoint, \n",
    "    num_labels=train_dataset_validity.features['validity_str'].num_classes,\n",
    "    label2id=train_dataset_validity.features['validity_str']._str2int, \n",
    "    id2label={v:k for k, v in train_dataset_validity.features['validity_str']._str2int.items()},\n",
    ")\n",
    "\n",
    "\n",
    "def tokenize_function(examples):\n",
    "    batch_size = len(examples['Premise'])\n",
    "    batched_inputs = [\n",
    "        examples['topic'][i] + tokenizer.sep_token + \\\n",
    "        examples['Premise'][i] + tokenizer.sep_token + \\\n",
    "        examples['Conclusion'][i] for i in range(batch_size)\n",
    "    ]\n",
    "    samples = tokenizer(batched_inputs, truncation=True, padding=True)\n",
    "    samples['labels'] = examples['validity_str']\n",
    "    return samples \n",
    "\n",
    "tokenized_train_dataset_validity = train_dataset_validity.map(tokenize_function, batched=True)\n",
    "tokenized_dev_dataset_validity = dev_dataset_validity.map(tokenize_function, batched=True)\n",
    "tokenized_train_dataset_validity.set_format(type='torch', columns=['input_ids', 'token_type_ids', 'attention_mask', 'labels'])\n",
    "tokenized_dev_dataset_validity.set_format(type='torch', columns=['input_ids', 'token_type_ids', 'attention_mask', 'labels'])"
   ]
  },
  {
   "cell_type": "code",
   "execution_count": null,
   "metadata": {},
   "outputs": [],
   "source": [
    "# define metrics\n",
    "\n",
    "def single_label_metrics(predictions, labels):\n",
    "    softmax = torch.nn.Softmax(dim=1)\n",
    "    preds = torch.Tensor(predictions)\n",
    "    probs = softmax(preds)\n",
    "    y_pred = torch.argmax(probs, dim=1)\n",
    "    y_true = labels\n",
    "    f1_micro_average = f1_score(y_true=y_true, y_pred=y_pred, average='micro')\n",
    "    accuracy = accuracy_score(y_true, y_pred)\n",
    "    return {'f1': f1_micro_average, 'accuracy': accuracy}\n",
    "\n",
    "def compute_metrics(p):\n",
    "    preds = p.predictions[0] if isinstance(p.predictions, tuple) else p.predictions\n",
    "    return single_label_metrics(\n",
    "        predictions=preds, \n",
    "        labels=p.label_ids\n",
    "    )"
   ]
  },
  {
   "cell_type": "code",
   "execution_count": null,
   "metadata": {},
   "outputs": [],
   "source": [
    "training_args = TrainingArguments(\n",
    "    \"argmining2022_trainer\",\n",
    "    num_train_epochs=10,\n",
    "    logging_strategy=\"epoch\",\n",
    "    evaluation_strategy=\"epoch\",\n",
    "    save_strategy=\"epoch\",\n",
    ")\n",
    "\n",
    "data_collator = DataCollatorWithPadding(tokenizer=tokenizer)\n",
    "trainer = Trainer(\n",
    "    model,\n",
    "    training_args,\n",
    "    train_dataset=tokenized_train_dataset_validity,\n",
    "    eval_dataset=tokenized_dev_dataset_validity,\n",
    "    data_collator=data_collator,\n",
    "    tokenizer=tokenizer,\n",
    "    compute_metrics=compute_metrics,\n",
    ")"
   ]
  },
  {
   "cell_type": "code",
   "execution_count": null,
   "metadata": {},
   "outputs": [],
   "source": [
    "trainer.train()"
   ]
  },
  {
   "cell_type": "markdown",
   "metadata": {},
   "source": [
    "# Multi-Task Learning\n",
    "Code inspired by [here](https://colab.research.google.com/github/zphang/zphang.github.io/blob/master/files/notebooks/Multi_task_Training_with_Transformers_NLP.ipynb#scrollTo=yrtS3ZeSsoZw).\n"
   ]
  },
  {
   "cell_type": "code",
   "execution_count": null,
   "metadata": {},
   "outputs": [],
   "source": [
    "from models import MultitaskModel\n",
    "import transformers"
   ]
  },
  {
   "cell_type": "code",
   "execution_count": null,
   "metadata": {},
   "outputs": [],
   "source": [
    "model_name = \"roberta-base\"\n",
    "multitask_model = MultitaskModel.create(\n",
    "    model_name=model_name,\n",
    "    model_type_dict={\n",
    "        \"novelty\": transformers.AutoModelForSequenceClassification,\n",
    "        \"validity\": transformers.AutoModelForSequenceClassification,\n",
    "    },\n",
    "    model_config_dict={\n",
    "        \"novelty\": transformers.AutoConfig.from_pretrained(model_name, num_labels=2),\n",
    "        \"validity\": transformers.AutoConfig.from_pretrained(model_name, num_labels=2),\n",
    "    },\n",
    ")\n",
    "\n",
    "if model_name.startswith(\"roberta-\"):\n",
    "    print(multitask_model.encoder.embeddings.word_embeddings.weight.data_ptr())\n",
    "    print(multitask_model.taskmodels_dict[\"novelty\"].roberta.embeddings.word_embeddings.weight.data_ptr())\n",
    "    print(multitask_model.taskmodels_dict[\"validity\"].roberta.embeddings.word_embeddings.weight.data_ptr())\n",
    "else:\n",
    "    print(\"Exercise for the reader: add a check for other model architectures =)\")"
   ]
  }
 ],
 "metadata": {
  "kernelspec": {
   "display_name": "Python 3 (ipykernel)",
   "language": "python",
   "name": "python3"
  },
  "language_info": {
   "codemirror_mode": {
    "name": "ipython",
    "version": 3
   },
   "file_extension": ".py",
   "mimetype": "text/x-python",
   "name": "python",
   "nbconvert_exporter": "python",
   "pygments_lexer": "ipython3",
   "version": "3.9.13"
  },
  "orig_nbformat": 4,
  "vscode": {
   "interpreter": {
    "hash": "36cf16204b8548560b1c020c4e8fb5b57f0e4c58016f52f2d4be01e192833930"
   }
  }
 },
 "nbformat": 4,
 "nbformat_minor": 2
}
