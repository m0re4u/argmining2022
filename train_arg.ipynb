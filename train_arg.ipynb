{
 "cells": [
  {
   "cell_type": "code",
   "execution_count": null,
   "metadata": {},
   "outputs": [],
   "source": [
    "import seaborn as sns\n",
    "import torch\n",
    "from sklearn.metrics import accuracy_score, f1_score\n",
    "from transformers import (AutoModelForSequenceClassification, AutoTokenizer,\n",
    "                          DataCollatorWithPadding, Trainer, TrainingArguments)\n",
    "\n",
    "from data import SharedTaskData\n"
   ]
  },
  {
   "cell_type": "markdown",
   "metadata": {},
   "source": [
    "# Prepare dataset"
   ]
  },
  {
   "cell_type": "code",
   "execution_count": null,
   "metadata": {},
   "outputs": [],
   "source": [
    "train_data = SharedTaskData(\"TaskA_train.csv\")\n",
    "dev_data = SharedTaskData(\"TaskA_dev.csv\")\n",
    "\n",
    "train_dataset = train_data.convert_to_hf_dataset()\n",
    "dev_dataset = dev_data.convert_to_hf_dataset(features=train_dataset.features)\n",
    "\n",
    "# Make sure internal label mapping is identical across datasets\n",
    "assert train_dataset.features['validity_str']._str2int == dev_dataset.features['validity_str']._str2int"
   ]
  },
  {
   "cell_type": "code",
   "execution_count": null,
   "metadata": {},
   "outputs": [],
   "source": [
    "# investigate validity labels\n",
    "sns.displot(train_dataset['Validity'])"
   ]
  },
  {
   "cell_type": "code",
   "execution_count": null,
   "metadata": {},
   "outputs": [],
   "source": [
    "# .. and novelty labels\n",
    "sns.displot(train_dataset['Novelty'])"
   ]
  },
  {
   "cell_type": "markdown",
   "metadata": {},
   "source": [
    "# Data imbalance\n",
    "We suffer from some data imbalance so we may need to oversample."
   ]
  },
  {
   "cell_type": "code",
   "execution_count": null,
   "metadata": {},
   "outputs": [],
   "source": [
    "# We focus on predicting Validity label for now\n",
    "checkpoint = \"bert-base-uncased\"\n",
    "tokenizer = AutoTokenizer.from_pretrained(checkpoint)\n",
    "model = AutoModelForSequenceClassification.from_pretrained(\n",
    "    checkpoint, \n",
    "    num_labels=train_dataset.features['validity_str'].num_classes,\n",
    "    label2id=train_dataset.features['validity_str']._str2int, \n",
    "    id2label={v:k for k, v in train_dataset.features['validity_str']._str2int.items()},\n",
    ")\n",
    "\n",
    "\n",
    "def tokenize_function(examples):\n",
    "    batch_size = len(examples['Premise'])\n",
    "    batched_inputs = [\n",
    "        examples['topic'][i] + tokenizer.sep_token + \\\n",
    "        examples['Premise'][i] + tokenizer.sep_token + \\\n",
    "        examples['Conclusion'][i] for i in range(batch_size)\n",
    "    ]\n",
    "    samples = tokenizer(batched_inputs, truncation=True, padding=True)\n",
    "    samples['labels'] = examples['validity_str']\n",
    "    return samples \n",
    "\n",
    "tokenized_train_dataset = train_dataset.map(tokenize_function, batched=True)\n",
    "tokenized_dev_dataset = dev_dataset.map(tokenize_function, batched=True)\n",
    "tokenized_train_dataset.set_format(type='torch', columns=['input_ids', 'token_type_ids', 'attention_mask', 'labels'])\n",
    "tokenized_dev_dataset.set_format(type='torch', columns=['input_ids', 'token_type_ids', 'attention_mask', 'labels'])"
   ]
  },
  {
   "cell_type": "code",
   "execution_count": null,
   "metadata": {},
   "outputs": [],
   "source": [
    "# define metrics\n",
    "\n",
    "def single_label_metrics(predictions, labels):\n",
    "    softmax = torch.nn.Softmax(dim=1)\n",
    "    preds = torch.Tensor(predictions)\n",
    "    probs = softmax(preds)\n",
    "    y_pred = torch.argmax(probs, dim=1)\n",
    "    y_true = labels\n",
    "    f1_micro_average = f1_score(y_true=y_true, y_pred=y_pred, average='micro')\n",
    "    accuracy = accuracy_score(y_true, y_pred)\n",
    "    return {'f1': f1_micro_average, 'accuracy': accuracy}\n",
    "\n",
    "def compute_metrics(p):\n",
    "    preds = p.predictions[0] if isinstance(p.predictions, tuple) else p.predictions\n",
    "    return single_label_metrics(\n",
    "        predictions=preds, \n",
    "        labels=p.label_ids\n",
    "    )"
   ]
  },
  {
   "cell_type": "code",
   "execution_count": null,
   "metadata": {},
   "outputs": [],
   "source": [
    "training_args = TrainingArguments(\n",
    "    \"argmining2022_trainer\",\n",
    "    num_train_epochs=10,\n",
    "    logging_strategy=\"epoch\",\n",
    "    evaluation_strategy=\"epoch\",\n",
    "    save_strategy=\"epoch\",\n",
    ")\n",
    "\n",
    "data_collator = DataCollatorWithPadding(tokenizer=tokenizer)\n",
    "trainer = Trainer(\n",
    "    model,\n",
    "    training_args,\n",
    "    train_dataset=tokenized_train_dataset,\n",
    "    eval_dataset=tokenized_dev_dataset,\n",
    "    data_collator=data_collator,\n",
    "    tokenizer=tokenizer,\n",
    "    compute_metrics=compute_metrics,\n",
    ")"
   ]
  },
  {
   "cell_type": "code",
   "execution_count": null,
   "metadata": {},
   "outputs": [],
   "source": [
    "trainer.train()"
   ]
  }
 ],
 "metadata": {
  "kernelspec": {
   "display_name": "Python 3 (ipykernel)",
   "language": "python",
   "name": "python3"
  },
  "language_info": {
   "codemirror_mode": {
    "name": "ipython",
    "version": 3
   },
   "file_extension": ".py",
   "mimetype": "text/x-python",
   "name": "python",
   "nbconvert_exporter": "python",
   "pygments_lexer": "ipython3",
   "version": "3.9.13"
  },
  "orig_nbformat": 4,
  "vscode": {
   "interpreter": {
    "hash": "36cf16204b8548560b1c020c4e8fb5b57f0e4c58016f52f2d4be01e192833930"
   }
  }
 },
 "nbformat": 4,
 "nbformat_minor": 2
}
